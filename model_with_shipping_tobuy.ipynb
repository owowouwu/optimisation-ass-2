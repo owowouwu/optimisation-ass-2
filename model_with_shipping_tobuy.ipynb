{
 "cells": [
  {
   "cell_type": "code",
   "execution_count": 1,
   "metadata": {},
   "outputs": [
    {
     "name": "stdout",
     "output_type": "stream",
     "text": [
      "Buying prices  {'computers_accessories': array([41.07586679, 51.58622733, 85.60246575, 77.68635332, 52.31090335,\n",
      "       94.02616315])}\n",
      "RRP  {'computers_accessories': array([ 66.34214286,  77.9       , 132.97      , 114.4911538 ,\n",
      "        77.155     , 149.9       ])}\n",
      "Product ratings  {'computers_accessories': array([4. , 3.5, 4.2, 4.2, 3.5, 4.3])}\n",
      "Weights  {'computers_accessories': array([ 173,  180,  922, 6550,  207,  533])}\n"
     ]
    }
   ],
   "source": [
    "import pandas as pd\n",
    "import numpy as np\n",
    "import gurobipy as gp\n",
    "from gurobipy import GRB\n",
    "import scipy as sp\n",
    "import matplotlib.pyplot as plt\n",
    "\n",
    "np.random.seed(1234)\n",
    "# read data\n",
    "df = pd.read_csv('retail_price.csv')\n",
    "index = ['product_category_name', 'product_id']\n",
    "column_min = ['unit_price', 'product_score', 'freight_price', 'product_weight_g', 'comp_1', 'ps1', 'comp_2', 'ps2', 'comp_3', 'ps3']\n",
    "# column_max = []\n",
    "column_sum = ['customers']\n",
    "\n",
    "table_min = pd.pivot_table(df, values=column_min, index=index,  aggfunc=np.min)\n",
    "# table_min = pivot_table(df, values='D', index=index,  aggfunc=np.max)\n",
    "table_sum = pd.pivot_table(df, values=column_sum, index=index, aggfunc=np.sum)\n",
    "table = table_min.merge(table_sum, on=index,how='left')\n",
    "table\n",
    "\n",
    "# Selling & Buying & Rating & Probability of buying\n",
    "product_category = ['computers_accessories']\n",
    "\n",
    "selling = {}\n",
    "for category in product_category:\n",
    "    selling[category] = (table.loc[category]['unit_price'].values)\n",
    "\n",
    "# we set the margin as a uniform % \n",
    "buying = {}\n",
    "for category in product_category:\n",
    "    buying[category] = selling[category] * np.random.uniform(0.6,0.7, size = len(selling[category]))\n",
    "\n",
    "\n",
    "rating = {}\n",
    "for category in product_category:\n",
    "    rating[category] = (table.loc[category]['product_score'].values)\n",
    "MAX_RATING = 5.\n",
    "\n",
    "# Customers\n",
    "n_customers = {}\n",
    "for category in product_category:\n",
    "    n_customers[category] = (table.loc[category]['customers'].sum())\n",
    "\n",
    "weights = {}\n",
    "for category in product_category:\n",
    "    weights[category] = (table.loc[category]['product_weight_g'].values)\n",
    "\n",
    "softmax={}\n",
    "for category in product_category:\n",
    "    softmax[category] = (np.exp(-selling[category]*(MAX_RATING - rating[category]) / 100) \n",
    "              / np.sum(np.exp(-selling[category]*(MAX_RATING - rating[category])/100)))\n",
    "\n",
    "prop_customers = softmax['computers_accessories']\n",
    "max_customers = n_customers['computers_accessories'] *prop_customers\n",
    "\n",
    "print(\"Buying prices \", buying)\n",
    "print(\"RRP \", selling)\n",
    "print(\"Product ratings \", rating)\n",
    "print(\"Weights \", weights)"
   ]
  },
  {
   "cell_type": "code",
   "execution_count": 2,
   "metadata": {},
   "outputs": [
    {
     "data": {
      "text/plain": [
       "Text(0, 0.5, 'Max Number of Customers to Buy')"
      ]
     },
     "execution_count": 2,
     "metadata": {},
     "output_type": "execute_result"
    },
    {
     "data": {
      "image/png": "[encoded data removed]",
      "text/plain": [
       "<Figure size 640x480 with 1 Axes>"
      ]
     },
     "metadata": {},
     "output_type": "display_data"
    }
   ],
   "source": [
    "plt.bar(np.arange(6), max_customers)\n",
    "plt.xlabel(\"Product\")\n",
    "plt.ylabel(\"Max Number of Customers to Buy\")"
   ]
  },
  {
   "cell_type": "code",
   "execution_count": 3,
   "metadata": {},
   "outputs": [],
   "source": [
    "# fixed freight cost, can change if needed\n",
    "SHIPPING_COST = 0\n",
    "\n",
    "# how many customers we have that won't buy unless extra conditions are fufilled\n",
    "MARKET_CUSTOMERS = {category: 10000 for category in product_category}\n",
    "\n",
    "# what % of 'market' customers do we get for each % of discount?\n",
    "DISCOUNT_FACTOR = 0\n",
    "\n",
    "# what % of 'market' customers do we get if we have free shipping\n",
    "FREE_SHIPPING_FACTOR = 0\n",
    "\n",
    "# the budget\n",
    "BUDGET = 1e6\n",
    "\n",
    "# inventory for each category, we will set this to be a proportion of the number of customers\n",
    "INVENTORY_SPACE = n_customers['computers_accessories'] * 0.75\n",
    "\n",
    "BULK_PURCHASE_COST = 1e3\n",
    "BULK_WEIGHT = 1e4"
   ]
  },
  {
   "cell_type": "code",
   "execution_count": 4,
   "metadata": {},
   "outputs": [],
   "source": [
    "def run_model():\n",
    "    m = gp.Model()\n",
    "\n",
    "    BIGNUM = 1e6 # sum(n_customers.values())\n",
    "\n",
    "    # decision variables\n",
    "    stock = {}\n",
    "    is_chosen = {}\n",
    "    sold = {}\n",
    "    discount = {}\n",
    "    free_shipping = {}\n",
    "    transport_multiplier = {}\n",
    "    vars = {\n",
    "        'stock':stock, 'is_chosen':is_chosen, 'sold':sold, 'discount':discount, 'free_shipping':free_shipping,\n",
    "    }\n",
    "\n",
    "    # initialising decision variables\n",
    "    for category in product_category:\n",
    "        I = range(len(selling[category]))\n",
    "        stock[category] = m.addVars(I,vtype = GRB.INTEGER)\n",
    "        is_chosen[category] = m.addVars(I, vtype = GRB.BINARY)\n",
    "        sold[category] = m.addVars(I,vtype = GRB.INTEGER)\n",
    "        discount[category] = m.addVars(I,vtype=GRB.CONTINUOUS, lb=0, ub=1)\n",
    "        free_shipping[category] = m.addVars(I,  vtype = GRB.BINARY)\n",
    "        transport_multiplier[category] = m.addVar(vtype = GRB.INTEGER)\n",
    "\n",
    "    # amount sold and extra customers\n",
    "    captured_customers = lambda category,i: (\n",
    "        MARKET_CUSTOMERS[category] * (FREE_SHIPPING_FACTOR * free_shipping[category][i]\n",
    "                                    + DISCOUNT_FACTOR * discount[category][i])\n",
    "    )\n",
    "    amount_sold  = lambda category,i: softmax[category][i]* (n_customers[category] + captured_customers(category,i))\n",
    "\n",
    "    # objective function\n",
    "    m.setObjective(\n",
    "        gp.quicksum(gp.quicksum(sold[category][i] * selling[category][i] * (1 - discount[category][i]) \n",
    "                                - stock[category][i] * buying[category][i]\n",
    "                                - sold[category][i] * SHIPPING_COST * free_shipping[category][i]\n",
    "                    for i in range(len(selling[category]))) \n",
    "                    - BULK_PURCHASE_COST * transport_multiplier[category] for category in product_category),\n",
    "        GRB.MAXIMIZE\n",
    "    )\n",
    "\n",
    "    # Can't store past inventory space\n",
    "    m.addConstrs( gp.quicksum(stock[category][i] for i in range(len(selling[category]))) <= INVENTORY_SPACE \n",
    "                for category in product_category)\n",
    "\n",
    "    # Can't buy more than the budget\n",
    "    m.addConstr(gp.quicksum( gp.quicksum(stock[category][i] * buying[category][i] for i in range(len(selling[category]))) \n",
    "                            for category in product_category) <= BUDGET)\n",
    "\n",
    "    for category in product_category:\n",
    "        # If a product is stocked, is_chosen is set to be 1 [Change to BIGNUM to remove dependencies on n_customers]\n",
    "        m.addConstrs(stock[category][i] <= is_chosen[category][i] * BIGNUM\n",
    "                    for i in range(len(selling[category])))\n",
    "        # Can't sell more than you have stocked\n",
    "        m.addConstrs(sold[category][i] <= stock[category][i] for i in range(len(selling[category])))\n",
    "        # How much we can sell depends on number of customers [Removed is_chosen]\n",
    "        m.addConstrs(sold[category][i] <= amount_sold(category, i)\n",
    "                    for i in range(len(selling[category])))\n",
    "        m.addConstrs((FREE_SHIPPING_FACTOR * free_shipping[category][i]\n",
    "                                    + DISCOUNT_FACTOR * discount[category][i]) <= 1 for i in range(len(selling[category])))\n",
    "        m.addConstrs(transport_multiplier[category] >= (1 / BULK_WEIGHT) * gp.quicksum(stock[category][i] * weights[category][i]\n",
    "                                                                    for i in range(len(selling[category])))\n",
    "                                                                    for category in product_category)\n",
    "\n",
    "    m.params.NonConvex = 2\n",
    "    m.optimize()\n",
    "    data = {}\n",
    "    for category in product_category:\n",
    "        data[category] = {}\n",
    "        for v in vars:\n",
    "            data[category][v] = [a.X for a in vars[v][category].values()]\n",
    "        data[category]['transport_units'] = transport_multiplier[category].X\n",
    "\n",
    "    return m,data\n"
   ]
  },
  {
   "cell_type": "code",
   "execution_count": 5,
   "metadata": {},
   "outputs": [
    {
     "data": {
      "text/plain": [
       "array([0.61511243, 0.51009298, 0.55334311, 0.47376146, 0.47493152,\n",
       "       0.59423712])"
      ]
     },
     "execution_count": 5,
     "metadata": {},
     "output_type": "execute_result"
    }
   ],
   "source": [
    "( selling['computers_accessories']- buying['computers_accessories'] ) / buying['computers_accessories']"
   ]
  },
  {
   "cell_type": "code",
   "execution_count": 24,
   "metadata": {},
   "outputs": [
    {
     "name": "stdout",
     "output_type": "stream",
     "text": [
      "Set parameter NonConvex to value 2\n",
      "Gurobi Optimizer version 10.0.1 build v10.0.1rc0 (linux64)\n",
      "\n",
      "CPU model: 12th Gen Intel(R) Core(TM) i5-12600K, instruction set [SSE2|AVX|AVX2]\n",
      "Thread count: 16 physical cores, 16 logical processors, using up to 16 threads\n",
      "\n",
      "Optimize a model with 27 rows, 31 columns and 49 nonzeros\n",
      "Model fingerprint: 0x8bbe656d\n",
      "Model has 6 quadratic objective terms\n",
      "Variable types: 6 continuous, 25 integer (12 binary)\n",
      "Coefficient statistics:\n",
      "  Matrix range     [1e+00, 1e+06]\n",
      "  Objective range  [4e+01, 1e+02]\n",
      "  QObjective range [1e+02, 3e+02]\n",
      "  Bounds range     [1e+00, 1e+00]\n",
      "  RHS range        [1e+00, 2e+04]\n",
      "Found heuristic solution: objective -0.0000000\n",
      "Presolve removed 26 rows and 26 columns\n",
      "Presolve time: 0.00s\n",
      "Presolved: 1 rows, 5 columns, 5 nonzeros\n",
      "Variable types: 0 continuous, 5 integer (0 binary)\n",
      "Found heuristic solution: objective 12290.948695\n",
      "\n",
      "Root relaxation: objective 1.230147e+04, 1 iterations, 0.00 seconds (0.00 work units)\n",
      "\n",
      "    Nodes    |    Current Node    |     Objective Bounds      |     Work\n",
      " Expl Unexpl |  Obj  Depth IntInf | Incumbent    BestBd   Gap | It/Node Time\n",
      "\n",
      "     0     0 12301.4734    0    1 12290.9487 12301.4734  0.09%     -    0s\n",
      "     0     0 12297.6335    0    2 12290.9487 12297.6335  0.05%     -    0s\n",
      "H    0     0                    12295.434024 12297.6335  0.02%     -    0s\n",
      "\n",
      "Cutting planes:\n",
      "  Gomory: 1\n",
      "  MIR: 1\n",
      "  StrongCG: 1\n",
      "\n",
      "Explored 1 nodes (2 simplex iterations) in 0.01 seconds (0.00 work units)\n",
      "Thread count was 16 (of 16 available processors)\n",
      "\n",
      "Solution count 3: 12295.4 12290.9 -0 \n",
      "\n",
      "Optimal solution found (tolerance 1.00e-04)\n",
      "Best objective 1.229543402426e+04, best bound 1.229626705545e+04, gap 0.0068%\n",
      "Total amount sold:  483.0\n"
     ]
    },
    {
     "data": {
      "image/png": "[encoded data removed]",
      "text/plain": [
       "<Figure size 640x480 with 1 Axes>"
      ]
     },
     "metadata": {},
     "output_type": "display_data"
    }
   ],
   "source": [
    "BUDGET = 2e4\n",
    "\n",
    "# inventory for each category, we will set this to be a proportion of the number of customers\n",
    "INVENTORY_SPACE = 10000\n",
    "\n",
    "BULK_PURCHASE_COST = 0\n",
    "BULK_WEIGHT = 1\n",
    "m,data = run_model()\n",
    "# the budget\n",
    "\n",
    "sold_items = data['computers_accessories']['sold']\n",
    "plt.bar(np.arange(6) - 0.2, sold_items, 0.4, label = 'sold')\n",
    "plt.bar(np.arange(6) + 0.2, max_customers, 0.4, label = 'demand')\n",
    "plt.legend()\n",
    "plt.xlabel(\"Item\")\n",
    "plt.ylabel(\"Number of Items\")\n",
    "print(\"Total amount sold: \", np.sum(sold_items))"
   ]
  },
  {
   "cell_type": "code",
   "execution_count": 26,
   "metadata": {},
   "outputs": [
    {
     "name": "stdout",
     "output_type": "stream",
     "text": [
      "Set parameter NonConvex to value 2\n",
      "Gurobi Optimizer version 10.0.1 build v10.0.1rc0 (linux64)\n",
      "\n",
      "CPU model: 12th Gen Intel(R) Core(TM) i5-12600K, instruction set [SSE2|AVX|AVX2]\n",
      "Thread count: 16 physical cores, 16 logical processors, using up to 16 threads\n",
      "\n",
      "Optimize a model with 27 rows, 31 columns and 49 nonzeros\n",
      "Model fingerprint: 0xbc503d2b\n",
      "Model has 6 quadratic objective terms\n",
      "Variable types: 6 continuous, 25 integer (12 binary)\n",
      "Coefficient statistics:\n",
      "  Matrix range     [2e-02, 1e+06]\n",
      "  Objective range  [4e+01, 1e+03]\n",
      "  QObjective range [1e+02, 3e+02]\n",
      "  Bounds range     [1e+00, 1e+00]\n",
      "  RHS range        [1e+00, 2e+04]\n",
      "Found heuristic solution: objective -0.0000000\n",
      "Presolve removed 25 rows and 25 columns\n",
      "Presolve time: 0.00s\n",
      "Presolved: 2 rows, 6 columns, 11 nonzeros\n",
      "Variable types: 0 continuous, 6 integer (0 binary)\n",
      "\n",
      "Root relaxation: objective 3.877594e+03, 2 iterations, 0.00 seconds (0.00 work units)\n",
      "\n",
      "    Nodes    |    Current Node    |     Objective Bounds      |     Work\n",
      " Expl Unexpl |  Obj  Depth IntInf | Incumbent    BestBd   Gap | It/Node Time\n",
      "\n",
      "     0     0 3877.59394    0    2   -0.00000 3877.59394      -     -    0s\n",
      "H    0     0                    3654.1420497 3877.59394  6.12%     -    0s\n",
      "H    0     0                    3674.0670411 3877.59394  5.54%     -    0s\n",
      "H    0     0                    3675.1145377 3877.59394  5.51%     -    0s\n",
      "H    0     0                    3677.2095309 3877.59394  5.45%     -    0s\n",
      "H    0     0                    3686.1315699 3686.64268  0.01%     -    0s\n",
      "     0     0 3686.54595    0    2 3686.13157 3686.54595  0.01%     -    0s\n",
      "\n",
      "Cutting planes:\n",
      "  MIR: 2\n",
      "  StrongCG: 2\n",
      "\n",
      "Explored 1 nodes (3 simplex iterations) in 0.01 seconds (0.00 work units)\n",
      "Thread count was 16 (of 16 available processors)\n",
      "\n",
      "Solution count 6: 3686.13 3677.21 3675.11 ... -0\n",
      "\n",
      "Optimal solution found (tolerance 1.00e-04)\n",
      "Best objective 3.686131569939e+03, best bound 3.686497583153e+03, gap 0.0099%\n",
      "Total amount sold:  458.0\n"
     ]
    },
    {
     "data": {
      "image/png": "[encoded data removed]",
      "text/plain": [
       "<Figure size 640x480 with 1 Axes>"
      ]
     },
     "metadata": {},
     "output_type": "display_data"
    }
   ],
   "source": [
    "BUDGET = 2e4\n",
    "\n",
    "# inventory for each category, we will set this to be a proportion of the number of customers\n",
    "INVENTORY_SPACE = 10000\n",
    "\n",
    "BULK_PURCHASE_COST = 1e3\n",
    "BULK_WEIGHT = 1e4\n",
    "m,data = run_model()\n",
    "# the budget\n",
    "\n",
    "sold_items = data['computers_accessories']['sold']\n",
    "plt.bar(np.arange(6) - 0.2, sold_items, 0.4, label = 'sold')\n",
    "plt.bar(np.arange(6) + 0.2, max_customers, 0.4, label = 'demand')\n",
    "plt.legend()\n",
    "plt.xlabel(\"Item\")\n",
    "plt.ylabel(\"Number of Items\")\n",
    "print(\"Total amount sold: \", np.sum(sold_items))"
   ]
  },
  {
   "cell_type": "code",
   "execution_count": 27,
   "metadata": {},
   "outputs": [
    {
     "data": {
      "text/plain": [
       "{'computers_accessories': {'stock': [349.0, 109.0, -0.0, -0.0, -0.0, -0.0],\n",
       "  'is_chosen': [1.0, 1.0, 1.0, 1.0, 1.0, 1.0],\n",
       "  'sold': [349.0, 109.0, 0.0, 0.0, 0.0, 0.0],\n",
       "  'discount': [0.0, 0.0, 0.0, 0.0, 0.0, 0.0],\n",
       "  'free_shipping': [0.0, 0.0, 0.0, 0.0, 0.0, 0.0],\n",
       "  'transport_units': 8.0}}"
      ]
     },
     "execution_count": 27,
     "metadata": {},
     "output_type": "execute_result"
    }
   ],
   "source": [
    "data"
   ]
  },
  {
   "cell_type": "code",
   "execution_count": null,
   "metadata": {},
   "outputs": [],
   "source": []
  }
 ],
 "metadata": {
  "kernelspec": {
   "display_name": "gurobi",
   "language": "python",
   "name": "python3"
  },
  "language_info": {
   "codemirror_mode": {
    "name": "ipython",
    "version": 3
   },
   "file_extension": ".py",
   "mimetype": "text/x-python",
   "name": "python",
   "nbconvert_exporter": "python",
   "pygments_lexer": "ipython3",
   "version": "3.9.16"
  },
  "orig_nbformat": 4
 },
 "nbformat": 4,
 "nbformat_minor": 2
}
