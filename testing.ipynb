{
 "cells": [
  {
   "cell_type": "code",
   "execution_count": 30,
   "metadata": {},
   "outputs": [],
   "source": [
    "import pandas as pd\n",
    "import numpy as np\n",
    "import gurobi as gp\n",
    "from gurobipy import GRB\n",
    "import scipy as sp"
   ]
  },
  {
   "cell_type": "code",
   "execution_count": 2,
   "metadata": {},
   "outputs": [],
   "source": [
    "df = pd.read_csv('retail_price.csv')"
   ]
  },
  {
   "cell_type": "code",
   "execution_count": 18,
   "metadata": {},
   "outputs": [],
   "source": [
    "df['month'] = pd.to_datetime(df['month_year'], dayfirst=True).dt.month\n",
    "df['year'] = pd.to_datetime(df['month_year'], dayfirst = True).dt.year"
   ]
  },
  {
   "cell_type": "code",
   "execution_count": 19,
   "metadata": {},
   "outputs": [
    {
     "name": "stderr",
     "output_type": "stream",
     "text": [
      "/tmp/ipykernel_29115/2229989431.py:1: UserWarning: Boolean Series key will be reindexed to match DataFrame index.\n",
      "  df[df['product_category_name'] == 'bed_bath_table'][df['month'] == 5][df['year'] == 2017]\n"
     ]
    },
    {
     "data": {
      "text/html": [
       "<div>\n",
       "<style scoped>\n",
       "    .dataframe tbody tr th:only-of-type {\n",
       "        vertical-align: middle;\n",
       "    }\n",
       "\n",
       "    .dataframe tbody tr th {\n",
       "        vertical-align: top;\n",
       "    }\n",
       "\n",
       "    .dataframe thead th {\n",
       "        text-align: right;\n",
       "    }\n",
       "</style>\n",
       "<table border=\"1\" class=\"dataframe\">\n",
       "  <thead>\n",
       "    <tr style=\"text-align: right;\">\n",
       "      <th></th>\n",
       "      <th>product_id</th>\n",
       "      <th>product_category_name</th>\n",
       "      <th>month_year</th>\n",
       "      <th>qty</th>\n",
       "      <th>total_price</th>\n",
       "      <th>freight_price</th>\n",
       "      <th>unit_price</th>\n",
       "      <th>product_name_lenght</th>\n",
       "      <th>product_description_lenght</th>\n",
       "      <th>product_photos_qty</th>\n",
       "      <th>...</th>\n",
       "      <th>comp_1</th>\n",
       "      <th>ps1</th>\n",
       "      <th>fp1</th>\n",
       "      <th>comp_2</th>\n",
       "      <th>ps2</th>\n",
       "      <th>fp2</th>\n",
       "      <th>comp_3</th>\n",
       "      <th>ps3</th>\n",
       "      <th>fp3</th>\n",
       "      <th>lag_price</th>\n",
       "    </tr>\n",
       "  </thead>\n",
       "  <tbody>\n",
       "    <tr>\n",
       "      <th>0</th>\n",
       "      <td>bed1</td>\n",
       "      <td>bed_bath_table</td>\n",
       "      <td>01-05-2017</td>\n",
       "      <td>1</td>\n",
       "      <td>45.95</td>\n",
       "      <td>15.100000</td>\n",
       "      <td>45.95</td>\n",
       "      <td>39</td>\n",
       "      <td>161</td>\n",
       "      <td>2</td>\n",
       "      <td>...</td>\n",
       "      <td>89.9</td>\n",
       "      <td>3.9</td>\n",
       "      <td>15.011897</td>\n",
       "      <td>215.0</td>\n",
       "      <td>4.4</td>\n",
       "      <td>8.76</td>\n",
       "      <td>45.95</td>\n",
       "      <td>4.0</td>\n",
       "      <td>15.1</td>\n",
       "      <td>45.90</td>\n",
       "    </tr>\n",
       "    <tr>\n",
       "      <th>441</th>\n",
       "      <td>bed2</td>\n",
       "      <td>bed_bath_table</td>\n",
       "      <td>01-05-2017</td>\n",
       "      <td>58</td>\n",
       "      <td>5214.20</td>\n",
       "      <td>15.011897</td>\n",
       "      <td>89.90</td>\n",
       "      <td>54</td>\n",
       "      <td>245</td>\n",
       "      <td>1</td>\n",
       "      <td>...</td>\n",
       "      <td>89.9</td>\n",
       "      <td>3.9</td>\n",
       "      <td>15.011897</td>\n",
       "      <td>215.0</td>\n",
       "      <td>4.4</td>\n",
       "      <td>8.76</td>\n",
       "      <td>45.95</td>\n",
       "      <td>4.0</td>\n",
       "      <td>15.1</td>\n",
       "      <td>89.90</td>\n",
       "    </tr>\n",
       "    <tr>\n",
       "      <th>671</th>\n",
       "      <td>bed5</td>\n",
       "      <td>bed_bath_table</td>\n",
       "      <td>01-05-2017</td>\n",
       "      <td>1</td>\n",
       "      <td>215.00</td>\n",
       "      <td>8.760000</td>\n",
       "      <td>215.00</td>\n",
       "      <td>56</td>\n",
       "      <td>162</td>\n",
       "      <td>5</td>\n",
       "      <td>...</td>\n",
       "      <td>89.9</td>\n",
       "      <td>3.9</td>\n",
       "      <td>15.011897</td>\n",
       "      <td>215.0</td>\n",
       "      <td>4.4</td>\n",
       "      <td>8.76</td>\n",
       "      <td>45.95</td>\n",
       "      <td>4.0</td>\n",
       "      <td>15.1</td>\n",
       "      <td>214.95</td>\n",
       "    </tr>\n",
       "  </tbody>\n",
       "</table>\n",
       "<p>3 rows × 30 columns</p>\n",
       "</div>"
      ],
      "text/plain": [
       "    product_id product_category_name  month_year  qty  total_price  \\\n",
       "0         bed1        bed_bath_table  01-05-2017    1        45.95   \n",
       "441       bed2        bed_bath_table  01-05-2017   58      5214.20   \n",
       "671       bed5        bed_bath_table  01-05-2017    1       215.00   \n",
       "\n",
       "     freight_price  unit_price  product_name_lenght  \\\n",
       "0        15.100000       45.95                   39   \n",
       "441      15.011897       89.90                   54   \n",
       "671       8.760000      215.00                   56   \n",
       "\n",
       "     product_description_lenght  product_photos_qty  ...  comp_1  ps1  \\\n",
       "0                           161                   2  ...    89.9  3.9   \n",
       "441                         245                   1  ...    89.9  3.9   \n",
       "671                         162                   5  ...    89.9  3.9   \n",
       "\n",
       "           fp1  comp_2  ps2   fp2  comp_3  ps3   fp3  lag_price  \n",
       "0    15.011897   215.0  4.4  8.76   45.95  4.0  15.1      45.90  \n",
       "441  15.011897   215.0  4.4  8.76   45.95  4.0  15.1      89.90  \n",
       "671  15.011897   215.0  4.4  8.76   45.95  4.0  15.1     214.95  \n",
       "\n",
       "[3 rows x 30 columns]"
      ]
     },
     "execution_count": 19,
     "metadata": {},
     "output_type": "execute_result"
    }
   ],
   "source": [
    "df[df['product_category_name'] == 'bed_bath_table'][df['month'] == 5][df['year'] == 2017]"
   ]
  },
  {
   "cell_type": "code",
   "execution_count": 29,
   "metadata": {},
   "outputs": [],
   "source": [
    "n_customers = 1000\n",
    "inventory_space = 1000\n",
    "selling = np.array([45.95,\n",
    "89.9,\n",
    "99,\n",
    "47.9,\n",
    "])\n",
    "\n",
    "buying = selling - np.random.uniform(10,20)\n",
    "probabilities = np.exp(-selling / 100) / np.sum(np.exp(-selling/100))\n",
    "I = range(len(buying))"
   ]
  },
  {
   "cell_type": "code",
   "execution_count": 25,
   "metadata": {},
   "outputs": [
    {
     "data": {
      "text/plain": [
       "array([0.31120092, 0.20052496, 0.18308284, 0.30519128])"
      ]
     },
     "execution_count": 25,
     "metadata": {},
     "output_type": "execute_result"
    }
   ],
   "source": [
    "probabilities"
   ]
  },
  {
   "cell_type": "code",
   "execution_count": 34,
   "metadata": {},
   "outputs": [
    {
     "name": "stdout",
     "output_type": "stream",
     "text": [
      "Gurobi Optimizer version 10.0.1 build v10.0.1rc0 (linux64)\n",
      "\n",
      "CPU model: AMD Ryzen 7 5800U with Radeon Graphics, instruction set [SSE2|AVX|AVX2]\n",
      "Thread count: 8 physical cores, 16 logical processors, using up to 16 threads\n",
      "\n",
      "Optimize a model with 13 rows, 12 columns and 28 nonzeros\n",
      "Model fingerprint: 0x4c155f48\n",
      "Variable types: 0 continuous, 12 integer (4 binary)\n",
      "Coefficient statistics:\n",
      "  Matrix range     [1e+00, 1e+03]\n",
      "  Objective range  [3e+01, 1e+02]\n",
      "  Bounds range     [1e+00, 1e+00]\n",
      "  RHS range        [1e+03, 1e+03]\n",
      "Found heuristic solution: objective -0.0000000\n",
      "Presolve removed 13 rows and 12 columns\n",
      "Presolve time: 0.00s\n",
      "Presolve: All rows and columns removed\n",
      "\n",
      "Explored 0 nodes (0 simplex iterations) in 0.00 seconds (0.00 work units)\n",
      "Thread count was 1 (of 16 available processors)\n",
      "\n",
      "Solution count 2: 17587.7 -0 \n",
      "\n",
      "Optimal solution found (tolerance 1.00e-04)\n",
      "Best objective 1.758766265665e+04, best bound 1.758766265665e+04, gap 0.0000%\n"
     ]
    }
   ],
   "source": [
    "m = gp.Model()\n",
    "stock = m.addVars(len(I), vtype = GRB.INTEGER)\n",
    "is_chosen = m.addVars(len(I), vtype = GRB.BINARY)\n",
    "sold = m.addVars(len(I), vtype = GRB.INTEGER)\n",
    "\n",
    "m.setObjective(\n",
    "    gp.quicksum(sold[i]* selling[i] - stock[i]*buying[i] for i in I),\n",
    "    GRB.MAXIMIZE\n",
    ")\n",
    "m.addConstr(gp.quicksum(stock[i] for i in range(4)) <= inventory_space)\n",
    "m.addConstrs(stock[i] <= is_chosen[i] * n_customers for i in I)\n",
    "m.addConstrs(sold[i] <= stock[i] for i in I)\n",
    "m.addConstrs(sold[i] <= n_customers * probabilities[i]  * is_chosen[i] for i in I)\n",
    "\n",
    "m.optimize()"
   ]
  },
  {
   "cell_type": "code",
   "execution_count": 35,
   "metadata": {},
   "outputs": [
    {
     "data": {
      "text/plain": [
       "{0: <gurobi.Var C0 (value 311.0)>,\n",
       " 1: <gurobi.Var C1 (value 200.0)>,\n",
       " 2: <gurobi.Var C2 (value 183.0)>,\n",
       " 3: <gurobi.Var C3 (value 305.0)>}"
      ]
     },
     "execution_count": 35,
     "metadata": {},
     "output_type": "execute_result"
    }
   ],
   "source": [
    "stock"
   ]
  },
  {
   "cell_type": "code",
   "execution_count": 36,
   "metadata": {},
   "outputs": [
    {
     "data": {
      "text/plain": [
       "array([28.34473208, 72.29473208, 81.39473208, 30.29473208])"
      ]
     },
     "execution_count": 36,
     "metadata": {},
     "output_type": "execute_result"
    }
   ],
   "source": [
    "buying"
   ]
  },
  {
   "cell_type": "code",
   "execution_count": 37,
   "metadata": {},
   "outputs": [
    {
     "data": {
      "text/plain": [
       "array([45.95, 89.9 , 99.  , 47.9 ])"
      ]
     },
     "execution_count": 37,
     "metadata": {},
     "output_type": "execute_result"
    }
   ],
   "source": [
    "selling"
   ]
  },
  {
   "cell_type": "code",
   "execution_count": 44,
   "metadata": {},
   "outputs": [],
   "source": [
    "n_customers = 1000\n",
    "inventory_space = 1000\n",
    "selling = np.array([45.95,\n",
    "89.9,\n",
    "99,\n",
    "47.9,\n",
    "])\n",
    "\n",
    "\n",
    "rating = np.array([3.8, 4.5, 4.8,4.0])\n",
    "MAX_RATING = 5.\n",
    "\n",
    "buying = selling - np.random.uniform(10,20)\n",
    "p1 = np.exp(-selling / 100) / np.sum(np.exp(-selling/100))\n",
    "p2 = np.exp(-selling*(MAX_RATING - rating) / 100) / np.sum(np.exp(-selling*(MAX_RATING - rating)/100))\n",
    "I = range(len(buying))"
   ]
  },
  {
   "cell_type": "code",
   "execution_count": 45,
   "metadata": {},
   "outputs": [
    {
     "data": {
      "text/plain": [
       "array([0.31120092, 0.20052496, 0.18308284, 0.30519128])"
      ]
     },
     "execution_count": 45,
     "metadata": {},
     "output_type": "execute_result"
    }
   ],
   "source": [
    "p1"
   ]
  },
  {
   "cell_type": "code",
   "execution_count": 46,
   "metadata": {},
   "outputs": [
    {
     "data": {
      "text/plain": [
       "array([0.21709593, 0.24038441, 0.30912302, 0.23339664])"
      ]
     },
     "execution_count": 46,
     "metadata": {},
     "output_type": "execute_result"
    }
   ],
   "source": [
    "p2"
   ]
  },
  {
   "cell_type": "code",
   "execution_count": 47,
   "metadata": {},
   "outputs": [
    {
     "name": "stdout",
     "output_type": "stream",
     "text": [
      "Gurobi Optimizer version 10.0.1 build v10.0.1rc0 (linux64)\n",
      "\n",
      "CPU model: AMD Ryzen 7 5800U with Radeon Graphics, instruction set [SSE2|AVX|AVX2]\n",
      "Thread count: 8 physical cores, 16 logical processors, using up to 16 threads\n",
      "\n",
      "Optimize a model with 13 rows, 12 columns and 28 nonzeros\n",
      "Model fingerprint: 0xbbe1fd89\n",
      "Variable types: 0 continuous, 12 integer (4 binary)\n",
      "Coefficient statistics:\n",
      "  Matrix range     [1e+00, 1e+03]\n",
      "  Objective range  [3e+01, 1e+02]\n",
      "  Bounds range     [1e+00, 1e+00]\n",
      "  RHS range        [1e+03, 1e+03]\n",
      "Found heuristic solution: objective -0.0000000\n",
      "Presolve removed 13 rows and 12 columns\n",
      "Presolve time: 0.00s\n",
      "Presolve: All rows and columns removed\n",
      "\n",
      "Explored 0 nodes (0 simplex iterations) in 0.04 seconds (0.00 work units)\n",
      "Thread count was 1 (of 16 available processors)\n",
      "\n",
      "Solution count 2: 13312.2 -0 \n",
      "\n",
      "Optimal solution found (tolerance 1.00e-04)\n",
      "Best objective 1.331216606617e+04, best bound 1.331216606617e+04, gap 0.0000%\n"
     ]
    }
   ],
   "source": [
    "m = gp.Model()\n",
    "stock = m.addVars(len(I), vtype = GRB.INTEGER)\n",
    "is_chosen = m.addVars(len(I), vtype = GRB.BINARY)\n",
    "sold = m.addVars(len(I), vtype = GRB.INTEGER)\n",
    "\n",
    "m.setObjective(\n",
    "    gp.quicksum(sold[i]* selling[i] - stock[i]*buying[i] for i in I),\n",
    "    GRB.MAXIMIZE\n",
    ")\n",
    "m.addConstr(gp.quicksum(stock[i] for i in range(4)) <= inventory_space)\n",
    "m.addConstrs(stock[i] <= is_chosen[i] * n_customers for i in I)\n",
    "m.addConstrs(sold[i] <= stock[i] for i in I)\n",
    "m.addConstrs(sold[i] <= n_customers * p2[i]  * is_chosen[i] for i in I)\n",
    "\n",
    "m.optimize()"
   ]
  },
  {
   "cell_type": "code",
   "execution_count": 48,
   "metadata": {},
   "outputs": [
    {
     "data": {
      "text/plain": [
       "{0: <gurobi.Var C0 (value 217.0)>,\n",
       " 1: <gurobi.Var C1 (value 240.0)>,\n",
       " 2: <gurobi.Var C2 (value 309.0)>,\n",
       " 3: <gurobi.Var C3 (value 233.0)>}"
      ]
     },
     "execution_count": 48,
     "metadata": {},
     "output_type": "execute_result"
    }
   ],
   "source": [
    "stock"
   ]
  },
  {
   "cell_type": "code",
   "execution_count": null,
   "metadata": {},
   "outputs": [],
   "source": []
  },
  {
   "cell_type": "markdown",
   "metadata": {},
   "source": [
    "# competitors"
   ]
  },
  {
   "cell_type": "code",
   "execution_count": 61,
   "metadata": {},
   "outputs": [],
   "source": [
    "comp = np.array(\n",
    "    [\n",
    "    [74,74,74,77.9,89.9],\n",
    "    [39.24,74,84.9,44.2,163.4]\n",
    "]\n",
    ")\n",
    "r = np.array([\n",
    "    [3.9,3.9,3.9,3.9,3.9],\n",
    "    [4.4,4.4,3.3,4.2,4.2]\n",
    "])\n",
    "\n",
    "c_score = r / comp\n",
    "c_score = np.mean(c_score, axis =1)"
   ]
  },
  {
   "cell_type": "code",
   "execution_count": 57,
   "metadata": {},
   "outputs": [
    {
     "data": {
      "text/plain": [
       "array([0.05031077, 0.06623712])"
      ]
     },
     "execution_count": 57,
     "metadata": {},
     "output_type": "execute_result"
    }
   ],
   "source": [
    "score"
   ]
  },
  {
   "cell_type": "code",
   "execution_count": 59,
   "metadata": {},
   "outputs": [
    {
     "data": {
      "text/plain": [
       "0.06311335644821126"
      ]
     },
     "execution_count": 59,
     "metadata": {},
     "output_type": "execute_result"
    }
   ],
   "source": [
    "price = np.array([39.24,74,84.9,44.15,163.4])\n",
    "ratings = np.array([4,3.9,3.3,4.2,4.4])\n",
    "score = np.mean(ratings / price)\n",
    "score"
   ]
  },
  {
   "cell_type": "code",
   "execution_count": 64,
   "metadata": {},
   "outputs": [],
   "source": [
    "scores = [0.05031077, 0.06623712, score]"
   ]
  },
  {
   "cell_type": "code",
   "execution_count": 65,
   "metadata": {},
   "outputs": [
    {
     "data": {
      "text/plain": [
       "array([0.33014864, 0.33544879, 0.33440257])"
      ]
     },
     "execution_count": 65,
     "metadata": {},
     "output_type": "execute_result"
    }
   ],
   "source": [
    "np.exp(scores) / np.sum(np.exp(scores))"
   ]
  },
  {
   "cell_type": "markdown",
   "metadata": {},
   "source": []
  }
 ],
 "metadata": {
  "kernelspec": {
   "display_name": "Python 3.9.16 ('gurobi')",
   "language": "python",
   "name": "python3"
  },
  "language_info": {
   "codemirror_mode": {
    "name": "ipython",
    "version": 3
   },
   "file_extension": ".py",
   "mimetype": "text/x-python",
   "name": "python",
   "nbconvert_exporter": "python",
   "pygments_lexer": "ipython3",
   "version": "3.9.16"
  },
  "orig_nbformat": 4,
  "vscode": {
   "interpreter": {
    "hash": "128e89a1219571bf327b67a5404081b2bbd3a6fd2c318b291fb6b5bc2b97670a"
   }
  }
 },
 "nbformat": 4,
 "nbformat_minor": 2
}
