{
 "cells": [
  {
   "cell_type": "markdown",
   "metadata": {},
   "source": [
    "# Allocation Experiment\n",
    "\n",
    "The goal here is to answer the question\n",
    "\n",
    "- How does our model select products given a limited budget and capacity?\n",
    "- How does this relate to how customers choose our products?\n",
    "    - Is there another way to model the expected amount of products sold?"
   ]
  },
  {
   "cell_type": "markdown",
   "metadata": {},
   "source": [
    "First we read in our data and choose some product categories."
   ]
  },
  {
   "cell_type": "code",
   "execution_count": 1,
   "metadata": {},
   "outputs": [
    {
     "data": {
      "text/html": [
       "<div>\n",
       "<style scoped>\n",
       "    .dataframe tbody tr th:only-of-type {\n",
       "        vertical-align: middle;\n",
       "    }\n",
       "\n",
       "    .dataframe tbody tr th {\n",
       "        vertical-align: top;\n",
       "    }\n",
       "\n",
       "    .dataframe thead th {\n",
       "        text-align: right;\n",
       "    }\n",
       "</style>\n",
       "<table border=\"1\" class=\"dataframe\">\n",
       "  <thead>\n",
       "    <tr style=\"text-align: right;\">\n",
       "      <th></th>\n",
       "      <th></th>\n",
       "      <th>comp_1</th>\n",
       "      <th>comp_2</th>\n",
       "      <th>comp_3</th>\n",
       "      <th>freight_price</th>\n",
       "      <th>product_score</th>\n",
       "      <th>product_weight_g</th>\n",
       "      <th>ps1</th>\n",
       "      <th>ps2</th>\n",
       "      <th>ps3</th>\n",
       "      <th>unit_price</th>\n",
       "      <th>customers</th>\n",
       "    </tr>\n",
       "    <tr>\n",
       "      <th>product_category_name</th>\n",
       "      <th>product_id</th>\n",
       "      <th></th>\n",
       "      <th></th>\n",
       "      <th></th>\n",
       "      <th></th>\n",
       "      <th></th>\n",
       "      <th></th>\n",
       "      <th></th>\n",
       "      <th></th>\n",
       "      <th></th>\n",
       "      <th></th>\n",
       "      <th></th>\n",
       "    </tr>\n",
       "  </thead>\n",
       "  <tbody>\n",
       "    <tr>\n",
       "      <th rowspan=\"5\" valign=\"top\">bed_bath_table</th>\n",
       "      <th>bed1</th>\n",
       "      <td>74.000000</td>\n",
       "      <td>39.240000</td>\n",
       "      <td>39.240000</td>\n",
       "      <td>10.256316</td>\n",
       "      <td>4.0</td>\n",
       "      <td>350</td>\n",
       "      <td>3.9</td>\n",
       "      <td>4.0</td>\n",
       "      <td>4.0</td>\n",
       "      <td>39.240000</td>\n",
       "      <td>915</td>\n",
       "    </tr>\n",
       "    <tr>\n",
       "      <th>bed2</th>\n",
       "      <td>74.000000</td>\n",
       "      <td>74.000000</td>\n",
       "      <td>39.240000</td>\n",
       "      <td>12.940000</td>\n",
       "      <td>3.9</td>\n",
       "      <td>1383</td>\n",
       "      <td>3.9</td>\n",
       "      <td>3.9</td>\n",
       "      <td>3.9</td>\n",
       "      <td>74.000000</td>\n",
       "      <td>968</td>\n",
       "    </tr>\n",
       "    <tr>\n",
       "      <th>bed3</th>\n",
       "      <td>74.000000</td>\n",
       "      <td>84.900000</td>\n",
       "      <td>39.240000</td>\n",
       "      <td>4.410000</td>\n",
       "      <td>3.3</td>\n",
       "      <td>1550</td>\n",
       "      <td>3.9</td>\n",
       "      <td>3.3</td>\n",
       "      <td>4.0</td>\n",
       "      <td>84.900000</td>\n",
       "      <td>530</td>\n",
       "    </tr>\n",
       "    <tr>\n",
       "      <th>bed4</th>\n",
       "      <td>77.933333</td>\n",
       "      <td>44.154444</td>\n",
       "      <td>39.990000</td>\n",
       "      <td>12.055000</td>\n",
       "      <td>4.2</td>\n",
       "      <td>800</td>\n",
       "      <td>3.9</td>\n",
       "      <td>4.2</td>\n",
       "      <td>4.0</td>\n",
       "      <td>44.154444</td>\n",
       "      <td>515</td>\n",
       "    </tr>\n",
       "    <tr>\n",
       "      <th>bed5</th>\n",
       "      <td>89.900000</td>\n",
       "      <td>163.398710</td>\n",
       "      <td>45.950000</td>\n",
       "      <td>8.760000</td>\n",
       "      <td>4.4</td>\n",
       "      <td>9750</td>\n",
       "      <td>3.9</td>\n",
       "      <td>4.4</td>\n",
       "      <td>4.0</td>\n",
       "      <td>163.398710</td>\n",
       "      <td>385</td>\n",
       "    </tr>\n",
       "    <tr>\n",
       "      <th rowspan=\"6\" valign=\"top\">computers_accessories</th>\n",
       "      <th>computers1</th>\n",
       "      <td>94.900000</td>\n",
       "      <td>94.900000</td>\n",
       "      <td>77.900000</td>\n",
       "      <td>10.390000</td>\n",
       "      <td>4.0</td>\n",
       "      <td>173</td>\n",
       "      <td>4.0</td>\n",
       "      <td>4.0</td>\n",
       "      <td>3.5</td>\n",
       "      <td>66.342143</td>\n",
       "      <td>890</td>\n",
       "    </tr>\n",
       "    <tr>\n",
       "      <th>computers2</th>\n",
       "      <td>114.491154</td>\n",
       "      <td>109.900000</td>\n",
       "      <td>77.900000</td>\n",
       "      <td>13.415000</td>\n",
       "      <td>3.5</td>\n",
       "      <td>180</td>\n",
       "      <td>4.2</td>\n",
       "      <td>3.5</td>\n",
       "      <td>3.5</td>\n",
       "      <td>77.900000</td>\n",
       "      <td>864</td>\n",
       "    </tr>\n",
       "    <tr>\n",
       "      <th>computers3</th>\n",
       "      <td>139.990000</td>\n",
       "      <td>134.900000</td>\n",
       "      <td>78.712281</td>\n",
       "      <td>14.596667</td>\n",
       "      <td>4.2</td>\n",
       "      <td>922</td>\n",
       "      <td>4.2</td>\n",
       "      <td>4.2</td>\n",
       "      <td>3.5</td>\n",
       "      <td>132.970000</td>\n",
       "      <td>529</td>\n",
       "    </tr>\n",
       "    <tr>\n",
       "      <th>computers4</th>\n",
       "      <td>114.491154</td>\n",
       "      <td>139.990000</td>\n",
       "      <td>77.900000</td>\n",
       "      <td>27.253036</td>\n",
       "      <td>4.2</td>\n",
       "      <td>6550</td>\n",
       "      <td>4.2</td>\n",
       "      <td>4.2</td>\n",
       "      <td>3.5</td>\n",
       "      <td>114.491154</td>\n",
       "      <td>968</td>\n",
       "    </tr>\n",
       "    <tr>\n",
       "      <th>computers5</th>\n",
       "      <td>114.491154</td>\n",
       "      <td>119.900000</td>\n",
       "      <td>77.900000</td>\n",
       "      <td>10.869000</td>\n",
       "      <td>3.5</td>\n",
       "      <td>207</td>\n",
       "      <td>4.2</td>\n",
       "      <td>3.5</td>\n",
       "      <td>3.5</td>\n",
       "      <td>77.155000</td>\n",
       "      <td>763</td>\n",
       "    </tr>\n",
       "    <tr>\n",
       "      <th>computers6</th>\n",
       "      <td>114.491154</td>\n",
       "      <td>149.900000</td>\n",
       "      <td>77.900000</td>\n",
       "      <td>18.943077</td>\n",
       "      <td>4.3</td>\n",
       "      <td>533</td>\n",
       "      <td>4.2</td>\n",
       "      <td>4.3</td>\n",
       "      <td>3.5</td>\n",
       "      <td>149.900000</td>\n",
       "      <td>793</td>\n",
       "    </tr>\n",
       "    <tr>\n",
       "      <th rowspan=\"2\" valign=\"top\">consoles_games</th>\n",
       "      <th>consoles1</th>\n",
       "      <td>19.900000</td>\n",
       "      <td>19.900000</td>\n",
       "      <td>19.900000</td>\n",
       "      <td>12.873750</td>\n",
       "      <td>4.2</td>\n",
       "      <td>150</td>\n",
       "      <td>4.2</td>\n",
       "      <td>3.9</td>\n",
       "      <td>4.2</td>\n",
       "      <td>19.900000</td>\n",
       "      <td>218</td>\n",
       "    </tr>\n",
       "    <tr>\n",
       "      <th>consoles2</th>\n",
       "      <td>19.900000</td>\n",
       "      <td>19.900000</td>\n",
       "      <td>19.900000</td>\n",
       "      <td>11.850000</td>\n",
       "      <td>3.9</td>\n",
       "      <td>100</td>\n",
       "      <td>3.9</td>\n",
       "      <td>3.9</td>\n",
       "      <td>3.9</td>\n",
       "      <td>19.900000</td>\n",
       "      <td>221</td>\n",
       "    </tr>\n",
       "    <tr>\n",
       "      <th rowspan=\"5\" valign=\"top\">cool_stuff</th>\n",
       "      <th>cool1</th>\n",
       "      <td>85.704286</td>\n",
       "      <td>85.704286</td>\n",
       "      <td>29.500000</td>\n",
       "      <td>13.720000</td>\n",
       "      <td>4.2</td>\n",
       "      <td>1200</td>\n",
       "      <td>4.2</td>\n",
       "      <td>4.2</td>\n",
       "      <td>4.2</td>\n",
       "      <td>85.704286</td>\n",
       "      <td>551</td>\n",
       "    </tr>\n",
       "    <tr>\n",
       "      <th>cool2</th>\n",
       "      <td>89.863333</td>\n",
       "      <td>116.927500</td>\n",
       "      <td>29.500000</td>\n",
       "      <td>16.710000</td>\n",
       "      <td>4.3</td>\n",
       "      <td>1600</td>\n",
       "      <td>4.2</td>\n",
       "      <td>4.3</td>\n",
       "      <td>4.3</td>\n",
       "      <td>116.927500</td>\n",
       "      <td>534</td>\n",
       "    </tr>\n",
       "    <tr>\n",
       "      <th>cool3</th>\n",
       "      <td>35.000000</td>\n",
       "      <td>29.500000</td>\n",
       "      <td>29.500000</td>\n",
       "      <td>11.730000</td>\n",
       "      <td>4.4</td>\n",
       "      <td>1867</td>\n",
       "      <td>4.2</td>\n",
       "      <td>4.3</td>\n",
       "      <td>4.4</td>\n",
       "      <td>29.500000</td>\n",
       "      <td>182</td>\n",
       "    </tr>\n",
       "    <tr>\n",
       "      <th>cool4</th>\n",
       "      <td>89.863333</td>\n",
       "      <td>116.927500</td>\n",
       "      <td>29.500000</td>\n",
       "      <td>15.700000</td>\n",
       "      <td>3.8</td>\n",
       "      <td>2425</td>\n",
       "      <td>4.2</td>\n",
       "      <td>4.3</td>\n",
       "      <td>3.8</td>\n",
       "      <td>134.990000</td>\n",
       "      <td>379</td>\n",
       "    </tr>\n",
       "    <tr>\n",
       "      <th>cool5</th>\n",
       "      <td>89.863333</td>\n",
       "      <td>99.990000</td>\n",
       "      <td>29.500000</td>\n",
       "      <td>15.577222</td>\n",
       "      <td>4.3</td>\n",
       "      <td>4475</td>\n",
       "      <td>4.2</td>\n",
       "      <td>4.3</td>\n",
       "      <td>4.3</td>\n",
       "      <td>84.692500</td>\n",
       "      <td>522</td>\n",
       "    </tr>\n",
       "    <tr>\n",
       "      <th rowspan=\"4\" valign=\"top\">furniture_decor</th>\n",
       "      <th>furniture1</th>\n",
       "      <td>38.400000</td>\n",
       "      <td>35.000000</td>\n",
       "      <td>38.400000</td>\n",
       "      <td>7.780000</td>\n",
       "      <td>3.7</td>\n",
       "      <td>850</td>\n",
       "      <td>3.7</td>\n",
       "      <td>3.7</td>\n",
       "      <td>3.7</td>\n",
       "      <td>35.000000</td>\n",
       "      <td>613</td>\n",
       "    </tr>\n",
       "    <tr>\n",
       "      <th>furniture2</th>\n",
       "      <td>69.900000</td>\n",
       "      <td>35.000000</td>\n",
       "      <td>75.000000</td>\n",
       "      <td>3.801630</td>\n",
       "      <td>4.1</td>\n",
       "      <td>2600</td>\n",
       "      <td>4.1</td>\n",
       "      <td>3.7</td>\n",
       "      <td>4.1</td>\n",
       "      <td>69.900000</td>\n",
       "      <td>646</td>\n",
       "    </tr>\n",
       "    <tr>\n",
       "      <th>furniture3</th>\n",
       "      <td>38.400000</td>\n",
       "      <td>35.000000</td>\n",
       "      <td>38.400000</td>\n",
       "      <td>11.015000</td>\n",
       "      <td>3.8</td>\n",
       "      <td>950</td>\n",
       "      <td>3.8</td>\n",
       "      <td>3.7</td>\n",
       "      <td>3.8</td>\n",
       "      <td>34.581176</td>\n",
       "      <td>626</td>\n",
       "    </tr>\n",
       "    <tr>\n",
       "      <th>furniture4</th>\n",
       "      <td>69.900000</td>\n",
       "      <td>35.000000</td>\n",
       "      <td>78.535714</td>\n",
       "      <td>19.410769</td>\n",
       "      <td>4.4</td>\n",
       "      <td>2500</td>\n",
       "      <td>4.1</td>\n",
       "      <td>3.7</td>\n",
       "      <td>4.4</td>\n",
       "      <td>78.535714</td>\n",
       "      <td>610</td>\n",
       "    </tr>\n",
       "    <tr>\n",
       "      <th rowspan=\"10\" valign=\"top\">garden_tools</th>\n",
       "      <th>garden1</th>\n",
       "      <td>49.900000</td>\n",
       "      <td>49.900000</td>\n",
       "      <td>49.900000</td>\n",
       "      <td>28.890000</td>\n",
       "      <td>4.3</td>\n",
       "      <td>5950</td>\n",
       "      <td>4.1</td>\n",
       "      <td>4.2</td>\n",
       "      <td>4.1</td>\n",
       "      <td>89.990000</td>\n",
       "      <td>1839</td>\n",
       "    </tr>\n",
       "    <tr>\n",
       "      <th>garden10</th>\n",
       "      <td>49.900000</td>\n",
       "      <td>49.900000</td>\n",
       "      <td>49.900000</td>\n",
       "      <td>13.510345</td>\n",
       "      <td>4.2</td>\n",
       "      <td>1750</td>\n",
       "      <td>4.1</td>\n",
       "      <td>4.2</td>\n",
       "      <td>4.1</td>\n",
       "      <td>49.900000</td>\n",
       "      <td>1815</td>\n",
       "    </tr>\n",
       "    <tr>\n",
       "      <th>garden2</th>\n",
       "      <td>49.900000</td>\n",
       "      <td>49.900000</td>\n",
       "      <td>49.900000</td>\n",
       "      <td>15.978000</td>\n",
       "      <td>4.3</td>\n",
       "      <td>1850</td>\n",
       "      <td>4.1</td>\n",
       "      <td>4.2</td>\n",
       "      <td>4.1</td>\n",
       "      <td>49.900000</td>\n",
       "      <td>1832</td>\n",
       "    </tr>\n",
       "    <tr>\n",
       "      <th>garden3</th>\n",
       "      <td>49.900000</td>\n",
       "      <td>49.900000</td>\n",
       "      <td>49.900000</td>\n",
       "      <td>30.539091</td>\n",
       "      <td>4.1</td>\n",
       "      <td>6050</td>\n",
       "      <td>4.1</td>\n",
       "      <td>4.1</td>\n",
       "      <td>4.1</td>\n",
       "      <td>89.990000</td>\n",
       "      <td>1743</td>\n",
       "    </tr>\n",
       "    <tr>\n",
       "      <th>garden4</th>\n",
       "      <td>49.900000</td>\n",
       "      <td>49.900000</td>\n",
       "      <td>49.900000</td>\n",
       "      <td>12.980000</td>\n",
       "      <td>4.1</td>\n",
       "      <td>1650</td>\n",
       "      <td>4.1</td>\n",
       "      <td>4.2</td>\n",
       "      <td>4.1</td>\n",
       "      <td>49.900000</td>\n",
       "      <td>1755</td>\n",
       "    </tr>\n",
       "    <tr>\n",
       "      <th>garden5</th>\n",
       "      <td>49.900000</td>\n",
       "      <td>49.900000</td>\n",
       "      <td>49.900000</td>\n",
       "      <td>32.680000</td>\n",
       "      <td>4.1</td>\n",
       "      <td>9000</td>\n",
       "      <td>4.1</td>\n",
       "      <td>4.1</td>\n",
       "      <td>4.1</td>\n",
       "      <td>69.900000</td>\n",
       "      <td>1593</td>\n",
       "    </tr>\n",
       "    <tr>\n",
       "      <th>garden6</th>\n",
       "      <td>49.900000</td>\n",
       "      <td>49.900000</td>\n",
       "      <td>49.900000</td>\n",
       "      <td>5.281739</td>\n",
       "      <td>4.1</td>\n",
       "      <td>1550</td>\n",
       "      <td>4.1</td>\n",
       "      <td>4.2</td>\n",
       "      <td>4.1</td>\n",
       "      <td>49.900000</td>\n",
       "      <td>1815</td>\n",
       "    </tr>\n",
       "    <tr>\n",
       "      <th>garden7</th>\n",
       "      <td>49.900000</td>\n",
       "      <td>49.900000</td>\n",
       "      <td>49.900000</td>\n",
       "      <td>13.440000</td>\n",
       "      <td>4.2</td>\n",
       "      <td>1800</td>\n",
       "      <td>4.1</td>\n",
       "      <td>4.2</td>\n",
       "      <td>4.1</td>\n",
       "      <td>49.900000</td>\n",
       "      <td>1806</td>\n",
       "    </tr>\n",
       "    <tr>\n",
       "      <th>garden8</th>\n",
       "      <td>49.900000</td>\n",
       "      <td>49.900000</td>\n",
       "      <td>49.900000</td>\n",
       "      <td>24.370000</td>\n",
       "      <td>4.2</td>\n",
       "      <td>7650</td>\n",
       "      <td>4.1</td>\n",
       "      <td>4.2</td>\n",
       "      <td>4.1</td>\n",
       "      <td>139.000000</td>\n",
       "      <td>1588</td>\n",
       "    </tr>\n",
       "    <tr>\n",
       "      <th>garden9</th>\n",
       "      <td>49.900000</td>\n",
       "      <td>49.900000</td>\n",
       "      <td>49.900000</td>\n",
       "      <td>14.388235</td>\n",
       "      <td>4.0</td>\n",
       "      <td>1500</td>\n",
       "      <td>4.0</td>\n",
       "      <td>4.0</td>\n",
       "      <td>4.0</td>\n",
       "      <td>49.900000</td>\n",
       "      <td>1832</td>\n",
       "    </tr>\n",
       "    <tr>\n",
       "      <th rowspan=\"10\" valign=\"top\">health_beauty</th>\n",
       "      <th>health1</th>\n",
       "      <td>23.397407</td>\n",
       "      <td>79.990000</td>\n",
       "      <td>58.990000</td>\n",
       "      <td>15.570000</td>\n",
       "      <td>3.8</td>\n",
       "      <td>600</td>\n",
       "      <td>4.3</td>\n",
       "      <td>4.1</td>\n",
       "      <td>3.9</td>\n",
       "      <td>84.990000</td>\n",
       "      <td>1027</td>\n",
       "    </tr>\n",
       "    <tr>\n",
       "      <th>health10</th>\n",
       "      <td>23.990000</td>\n",
       "      <td>79.990000</td>\n",
       "      <td>58.990000</td>\n",
       "      <td>9.312727</td>\n",
       "      <td>4.2</td>\n",
       "      <td>1110</td>\n",
       "      <td>4.2</td>\n",
       "      <td>4.1</td>\n",
       "      <td>3.9</td>\n",
       "      <td>47.357895</td>\n",
       "      <td>943</td>\n",
       "    </tr>\n",
       "    <tr>\n",
       "      <th>health2</th>\n",
       "      <td>23.397407</td>\n",
       "      <td>79.990000</td>\n",
       "      <td>58.990000</td>\n",
       "      <td>15.637826</td>\n",
       "      <td>4.2</td>\n",
       "      <td>400</td>\n",
       "      <td>4.2</td>\n",
       "      <td>4.1</td>\n",
       "      <td>3.9</td>\n",
       "      <td>325.000000</td>\n",
       "      <td>1544</td>\n",
       "    </tr>\n",
       "    <tr>\n",
       "      <th>health3</th>\n",
       "      <td>23.990000</td>\n",
       "      <td>79.990000</td>\n",
       "      <td>58.990000</td>\n",
       "      <td>20.550000</td>\n",
       "      <td>4.1</td>\n",
       "      <td>700</td>\n",
       "      <td>4.1</td>\n",
       "      <td>4.1</td>\n",
       "      <td>3.9</td>\n",
       "      <td>110.990000</td>\n",
       "      <td>1041</td>\n",
       "    </tr>\n",
       "    <tr>\n",
       "      <th>health4</th>\n",
       "      <td>23.990000</td>\n",
       "      <td>79.990000</td>\n",
       "      <td>58.990000</td>\n",
       "      <td>9.365556</td>\n",
       "      <td>4.5</td>\n",
       "      <td>250</td>\n",
       "      <td>4.3</td>\n",
       "      <td>4.1</td>\n",
       "      <td>3.9</td>\n",
       "      <td>29.900000</td>\n",
       "      <td>1373</td>\n",
       "    </tr>\n",
       "    <tr>\n",
       "      <th>health5</th>\n",
       "      <td>19.990000</td>\n",
       "      <td>79.990000</td>\n",
       "      <td>58.799524</td>\n",
       "      <td>19.290000</td>\n",
       "      <td>4.3</td>\n",
       "      <td>900</td>\n",
       "      <td>4.3</td>\n",
       "      <td>4.1</td>\n",
       "      <td>3.9</td>\n",
       "      <td>322.136364</td>\n",
       "      <td>1775</td>\n",
       "    </tr>\n",
       "    <tr>\n",
       "      <th>health6</th>\n",
       "      <td>23.990000</td>\n",
       "      <td>79.990000</td>\n",
       "      <td>58.990000</td>\n",
       "      <td>23.528214</td>\n",
       "      <td>3.9</td>\n",
       "      <td>350</td>\n",
       "      <td>3.9</td>\n",
       "      <td>4.1</td>\n",
       "      <td>3.9</td>\n",
       "      <td>61.990000</td>\n",
       "      <td>915</td>\n",
       "    </tr>\n",
       "    <tr>\n",
       "      <th>health7</th>\n",
       "      <td>19.990000</td>\n",
       "      <td>64.990000</td>\n",
       "      <td>58.799524</td>\n",
       "      <td>7.670000</td>\n",
       "      <td>3.9</td>\n",
       "      <td>200</td>\n",
       "      <td>3.9</td>\n",
       "      <td>3.9</td>\n",
       "      <td>3.9</td>\n",
       "      <td>58.799524</td>\n",
       "      <td>1775</td>\n",
       "    </tr>\n",
       "    <tr>\n",
       "      <th>health8</th>\n",
       "      <td>19.990000</td>\n",
       "      <td>79.990000</td>\n",
       "      <td>58.799524</td>\n",
       "      <td>11.876875</td>\n",
       "      <td>4.1</td>\n",
       "      <td>250</td>\n",
       "      <td>4.1</td>\n",
       "      <td>4.1</td>\n",
       "      <td>3.9</td>\n",
       "      <td>79.990000</td>\n",
       "      <td>1724</td>\n",
       "    </tr>\n",
       "    <tr>\n",
       "      <th>health9</th>\n",
       "      <td>19.990000</td>\n",
       "      <td>19.990000</td>\n",
       "      <td>58.799524</td>\n",
       "      <td>7.988571</td>\n",
       "      <td>4.3</td>\n",
       "      <td>100</td>\n",
       "      <td>4.3</td>\n",
       "      <td>4.1</td>\n",
       "      <td>3.9</td>\n",
       "      <td>19.990000</td>\n",
       "      <td>1648</td>\n",
       "    </tr>\n",
       "    <tr>\n",
       "      <th rowspan=\"2\" valign=\"top\">perfumery</th>\n",
       "      <th>perfumery1</th>\n",
       "      <td>49.990000</td>\n",
       "      <td>56.990000</td>\n",
       "      <td>49.990000</td>\n",
       "      <td>11.750000</td>\n",
       "      <td>4.3</td>\n",
       "      <td>250</td>\n",
       "      <td>4.3</td>\n",
       "      <td>4.3</td>\n",
       "      <td>4.3</td>\n",
       "      <td>49.990000</td>\n",
       "      <td>204</td>\n",
       "    </tr>\n",
       "    <tr>\n",
       "      <th>perfumery2</th>\n",
       "      <td>49.990000</td>\n",
       "      <td>116.906667</td>\n",
       "      <td>116.906667</td>\n",
       "      <td>9.190000</td>\n",
       "      <td>4.4</td>\n",
       "      <td>400</td>\n",
       "      <td>4.3</td>\n",
       "      <td>4.4</td>\n",
       "      <td>4.4</td>\n",
       "      <td>116.906667</td>\n",
       "      <td>223</td>\n",
       "    </tr>\n",
       "    <tr>\n",
       "      <th rowspan=\"8\" valign=\"top\">watches_gifts</th>\n",
       "      <th>watches1</th>\n",
       "      <td>103.792523</td>\n",
       "      <td>105.000000</td>\n",
       "      <td>132.531250</td>\n",
       "      <td>14.212500</td>\n",
       "      <td>3.8</td>\n",
       "      <td>4338</td>\n",
       "      <td>3.8</td>\n",
       "      <td>3.8</td>\n",
       "      <td>3.8</td>\n",
       "      <td>132.531250</td>\n",
       "      <td>1352</td>\n",
       "    </tr>\n",
       "    <tr>\n",
       "      <th>watches2</th>\n",
       "      <td>103.792523</td>\n",
       "      <td>105.000000</td>\n",
       "      <td>132.531250</td>\n",
       "      <td>13.910000</td>\n",
       "      <td>4.0</td>\n",
       "      <td>444</td>\n",
       "      <td>4.0</td>\n",
       "      <td>4.0</td>\n",
       "      <td>3.8</td>\n",
       "      <td>118.131818</td>\n",
       "      <td>1343</td>\n",
       "    </tr>\n",
       "    <tr>\n",
       "      <th>watches3</th>\n",
       "      <td>78.000000</td>\n",
       "      <td>78.000000</td>\n",
       "      <td>132.531250</td>\n",
       "      <td>7.800000</td>\n",
       "      <td>3.9</td>\n",
       "      <td>250</td>\n",
       "      <td>3.9</td>\n",
       "      <td>3.9</td>\n",
       "      <td>3.8</td>\n",
       "      <td>77.821429</td>\n",
       "      <td>1295</td>\n",
       "    </tr>\n",
       "    <tr>\n",
       "      <th>watches4</th>\n",
       "      <td>103.792523</td>\n",
       "      <td>105.000000</td>\n",
       "      <td>132.531250</td>\n",
       "      <td>11.377297</td>\n",
       "      <td>4.2</td>\n",
       "      <td>1000</td>\n",
       "      <td>4.2</td>\n",
       "      <td>4.2</td>\n",
       "      <td>3.8</td>\n",
       "      <td>105.000000</td>\n",
       "      <td>1152</td>\n",
       "    </tr>\n",
       "    <tr>\n",
       "      <th>watches5</th>\n",
       "      <td>103.792523</td>\n",
       "      <td>105.000000</td>\n",
       "      <td>132.531250</td>\n",
       "      <td>0.000000</td>\n",
       "      <td>4.1</td>\n",
       "      <td>342</td>\n",
       "      <td>4.1</td>\n",
       "      <td>4.1</td>\n",
       "      <td>3.8</td>\n",
       "      <td>199.000000</td>\n",
       "      <td>1021</td>\n",
       "    </tr>\n",
       "    <tr>\n",
       "      <th>watches6</th>\n",
       "      <td>103.792523</td>\n",
       "      <td>105.000000</td>\n",
       "      <td>132.531250</td>\n",
       "      <td>0.095439</td>\n",
       "      <td>4.2</td>\n",
       "      <td>584</td>\n",
       "      <td>4.2</td>\n",
       "      <td>4.2</td>\n",
       "      <td>3.8</td>\n",
       "      <td>103.792523</td>\n",
       "      <td>1284</td>\n",
       "    </tr>\n",
       "    <tr>\n",
       "      <th>watches7</th>\n",
       "      <td>103.792523</td>\n",
       "      <td>105.000000</td>\n",
       "      <td>132.531250</td>\n",
       "      <td>13.455000</td>\n",
       "      <td>3.7</td>\n",
       "      <td>363</td>\n",
       "      <td>3.7</td>\n",
       "      <td>3.7</td>\n",
       "      <td>3.8</td>\n",
       "      <td>169.349318</td>\n",
       "      <td>1236</td>\n",
       "    </tr>\n",
       "    <tr>\n",
       "      <th>watches8</th>\n",
       "      <td>103.792523</td>\n",
       "      <td>105.000000</td>\n",
       "      <td>132.531250</td>\n",
       "      <td>11.220000</td>\n",
       "      <td>4.1</td>\n",
       "      <td>335</td>\n",
       "      <td>4.1</td>\n",
       "      <td>4.1</td>\n",
       "      <td>3.8</td>\n",
       "      <td>145.166667</td>\n",
       "      <td>1060</td>\n",
       "    </tr>\n",
       "  </tbody>\n",
       "</table>\n",
       "</div>"
      ],
      "text/plain": [
       "                                      comp_1      comp_2      comp_3  \\\n",
       "product_category_name product_id                                       \n",
       "bed_bath_table        bed1         74.000000   39.240000   39.240000   \n",
       "                      bed2         74.000000   74.000000   39.240000   \n",
       "                      bed3         74.000000   84.900000   39.240000   \n",
       "                      bed4         77.933333   44.154444   39.990000   \n",
       "                      bed5         89.900000  163.398710   45.950000   \n",
       "computers_accessories computers1   94.900000   94.900000   77.900000   \n",
       "                      computers2  114.491154  109.900000   77.900000   \n",
       "                      computers3  139.990000  134.900000   78.712281   \n",
       "                      computers4  114.491154  139.990000   77.900000   \n",
       "                      computers5  114.491154  119.900000   77.900000   \n",
       "                      computers6  114.491154  149.900000   77.900000   \n",
       "consoles_games        consoles1    19.900000   19.900000   19.900000   \n",
       "                      consoles2    19.900000   19.900000   19.900000   \n",
       "cool_stuff            cool1        85.704286   85.704286   29.500000   \n",
       "                      cool2        89.863333  116.927500   29.500000   \n",
       "                      cool3        35.000000   29.500000   29.500000   \n",
       "                      cool4        89.863333  116.927500   29.500000   \n",
       "                      cool5        89.863333   99.990000   29.500000   \n",
       "furniture_decor       furniture1   38.400000   35.000000   38.400000   \n",
       "                      furniture2   69.900000   35.000000   75.000000   \n",
       "                      furniture3   38.400000   35.000000   38.400000   \n",
       "                      furniture4   69.900000   35.000000   78.535714   \n",
       "garden_tools          garden1      49.900000   49.900000   49.900000   \n",
       "                      garden10     49.900000   49.900000   49.900000   \n",
       "                      garden2      49.900000   49.900000   49.900000   \n",
       "                      garden3      49.900000   49.900000   49.900000   \n",
       "                      garden4      49.900000   49.900000   49.900000   \n",
       "                      garden5      49.900000   49.900000   49.900000   \n",
       "                      garden6      49.900000   49.900000   49.900000   \n",
       "                      garden7      49.900000   49.900000   49.900000   \n",
       "                      garden8      49.900000   49.900000   49.900000   \n",
       "                      garden9      49.900000   49.900000   49.900000   \n",
       "health_beauty         health1      23.397407   79.990000   58.990000   \n",
       "                      health10     23.990000   79.990000   58.990000   \n",
       "                      health2      23.397407   79.990000   58.990000   \n",
       "                      health3      23.990000   79.990000   58.990000   \n",
       "                      health4      23.990000   79.990000   58.990000   \n",
       "                      health5      19.990000   79.990000   58.799524   \n",
       "                      health6      23.990000   79.990000   58.990000   \n",
       "                      health7      19.990000   64.990000   58.799524   \n",
       "                      health8      19.990000   79.990000   58.799524   \n",
       "                      health9      19.990000   19.990000   58.799524   \n",
       "perfumery             perfumery1   49.990000   56.990000   49.990000   \n",
       "                      perfumery2   49.990000  116.906667  116.906667   \n",
       "watches_gifts         watches1    103.792523  105.000000  132.531250   \n",
       "                      watches2    103.792523  105.000000  132.531250   \n",
       "                      watches3     78.000000   78.000000  132.531250   \n",
       "                      watches4    103.792523  105.000000  132.531250   \n",
       "                      watches5    103.792523  105.000000  132.531250   \n",
       "                      watches6    103.792523  105.000000  132.531250   \n",
       "                      watches7    103.792523  105.000000  132.531250   \n",
       "                      watches8    103.792523  105.000000  132.531250   \n",
       "\n",
       "                                  freight_price  product_score  \\\n",
       "product_category_name product_id                                 \n",
       "bed_bath_table        bed1            10.256316            4.0   \n",
       "                      bed2            12.940000            3.9   \n",
       "                      bed3             4.410000            3.3   \n",
       "                      bed4            12.055000            4.2   \n",
       "                      bed5             8.760000            4.4   \n",
       "computers_accessories computers1      10.390000            4.0   \n",
       "                      computers2      13.415000            3.5   \n",
       "                      computers3      14.596667            4.2   \n",
       "                      computers4      27.253036            4.2   \n",
       "                      computers5      10.869000            3.5   \n",
       "                      computers6      18.943077            4.3   \n",
       "consoles_games        consoles1       12.873750            4.2   \n",
       "                      consoles2       11.850000            3.9   \n",
       "cool_stuff            cool1           13.720000            4.2   \n",
       "                      cool2           16.710000            4.3   \n",
       "                      cool3           11.730000            4.4   \n",
       "                      cool4           15.700000            3.8   \n",
       "                      cool5           15.577222            4.3   \n",
       "furniture_decor       furniture1       7.780000            3.7   \n",
       "                      furniture2       3.801630            4.1   \n",
       "                      furniture3      11.015000            3.8   \n",
       "                      furniture4      19.410769            4.4   \n",
       "garden_tools          garden1         28.890000            4.3   \n",
       "                      garden10        13.510345            4.2   \n",
       "                      garden2         15.978000            4.3   \n",
       "                      garden3         30.539091            4.1   \n",
       "                      garden4         12.980000            4.1   \n",
       "                      garden5         32.680000            4.1   \n",
       "                      garden6          5.281739            4.1   \n",
       "                      garden7         13.440000            4.2   \n",
       "                      garden8         24.370000            4.2   \n",
       "                      garden9         14.388235            4.0   \n",
       "health_beauty         health1         15.570000            3.8   \n",
       "                      health10         9.312727            4.2   \n",
       "                      health2         15.637826            4.2   \n",
       "                      health3         20.550000            4.1   \n",
       "                      health4          9.365556            4.5   \n",
       "                      health5         19.290000            4.3   \n",
       "                      health6         23.528214            3.9   \n",
       "                      health7          7.670000            3.9   \n",
       "                      health8         11.876875            4.1   \n",
       "                      health9          7.988571            4.3   \n",
       "perfumery             perfumery1      11.750000            4.3   \n",
       "                      perfumery2       9.190000            4.4   \n",
       "watches_gifts         watches1        14.212500            3.8   \n",
       "                      watches2        13.910000            4.0   \n",
       "                      watches3         7.800000            3.9   \n",
       "                      watches4        11.377297            4.2   \n",
       "                      watches5         0.000000            4.1   \n",
       "                      watches6         0.095439            4.2   \n",
       "                      watches7        13.455000            3.7   \n",
       "                      watches8        11.220000            4.1   \n",
       "\n",
       "                                  product_weight_g  ps1  ps2  ps3  unit_price  \\\n",
       "product_category_name product_id                                                \n",
       "bed_bath_table        bed1                     350  3.9  4.0  4.0   39.240000   \n",
       "                      bed2                    1383  3.9  3.9  3.9   74.000000   \n",
       "                      bed3                    1550  3.9  3.3  4.0   84.900000   \n",
       "                      bed4                     800  3.9  4.2  4.0   44.154444   \n",
       "                      bed5                    9750  3.9  4.4  4.0  163.398710   \n",
       "computers_accessories computers1               173  4.0  4.0  3.5   66.342143   \n",
       "                      computers2               180  4.2  3.5  3.5   77.900000   \n",
       "                      computers3               922  4.2  4.2  3.5  132.970000   \n",
       "                      computers4              6550  4.2  4.2  3.5  114.491154   \n",
       "                      computers5               207  4.2  3.5  3.5   77.155000   \n",
       "                      computers6               533  4.2  4.3  3.5  149.900000   \n",
       "consoles_games        consoles1                150  4.2  3.9  4.2   19.900000   \n",
       "                      consoles2                100  3.9  3.9  3.9   19.900000   \n",
       "cool_stuff            cool1                   1200  4.2  4.2  4.2   85.704286   \n",
       "                      cool2                   1600  4.2  4.3  4.3  116.927500   \n",
       "                      cool3                   1867  4.2  4.3  4.4   29.500000   \n",
       "                      cool4                   2425  4.2  4.3  3.8  134.990000   \n",
       "                      cool5                   4475  4.2  4.3  4.3   84.692500   \n",
       "furniture_decor       furniture1               850  3.7  3.7  3.7   35.000000   \n",
       "                      furniture2              2600  4.1  3.7  4.1   69.900000   \n",
       "                      furniture3               950  3.8  3.7  3.8   34.581176   \n",
       "                      furniture4              2500  4.1  3.7  4.4   78.535714   \n",
       "garden_tools          garden1                 5950  4.1  4.2  4.1   89.990000   \n",
       "                      garden10                1750  4.1  4.2  4.1   49.900000   \n",
       "                      garden2                 1850  4.1  4.2  4.1   49.900000   \n",
       "                      garden3                 6050  4.1  4.1  4.1   89.990000   \n",
       "                      garden4                 1650  4.1  4.2  4.1   49.900000   \n",
       "                      garden5                 9000  4.1  4.1  4.1   69.900000   \n",
       "                      garden6                 1550  4.1  4.2  4.1   49.900000   \n",
       "                      garden7                 1800  4.1  4.2  4.1   49.900000   \n",
       "                      garden8                 7650  4.1  4.2  4.1  139.000000   \n",
       "                      garden9                 1500  4.0  4.0  4.0   49.900000   \n",
       "health_beauty         health1                  600  4.3  4.1  3.9   84.990000   \n",
       "                      health10                1110  4.2  4.1  3.9   47.357895   \n",
       "                      health2                  400  4.2  4.1  3.9  325.000000   \n",
       "                      health3                  700  4.1  4.1  3.9  110.990000   \n",
       "                      health4                  250  4.3  4.1  3.9   29.900000   \n",
       "                      health5                  900  4.3  4.1  3.9  322.136364   \n",
       "                      health6                  350  3.9  4.1  3.9   61.990000   \n",
       "                      health7                  200  3.9  3.9  3.9   58.799524   \n",
       "                      health8                  250  4.1  4.1  3.9   79.990000   \n",
       "                      health9                  100  4.3  4.1  3.9   19.990000   \n",
       "perfumery             perfumery1               250  4.3  4.3  4.3   49.990000   \n",
       "                      perfumery2               400  4.3  4.4  4.4  116.906667   \n",
       "watches_gifts         watches1                4338  3.8  3.8  3.8  132.531250   \n",
       "                      watches2                 444  4.0  4.0  3.8  118.131818   \n",
       "                      watches3                 250  3.9  3.9  3.8   77.821429   \n",
       "                      watches4                1000  4.2  4.2  3.8  105.000000   \n",
       "                      watches5                 342  4.1  4.1  3.8  199.000000   \n",
       "                      watches6                 584  4.2  4.2  3.8  103.792523   \n",
       "                      watches7                 363  3.7  3.7  3.8  169.349318   \n",
       "                      watches8                 335  4.1  4.1  3.8  145.166667   \n",
       "\n",
       "                                  customers  \n",
       "product_category_name product_id             \n",
       "bed_bath_table        bed1              915  \n",
       "                      bed2              968  \n",
       "                      bed3              530  \n",
       "                      bed4              515  \n",
       "                      bed5              385  \n",
       "computers_accessories computers1        890  \n",
       "                      computers2        864  \n",
       "                      computers3        529  \n",
       "                      computers4        968  \n",
       "                      computers5        763  \n",
       "                      computers6        793  \n",
       "consoles_games        consoles1         218  \n",
       "                      consoles2         221  \n",
       "cool_stuff            cool1             551  \n",
       "                      cool2             534  \n",
       "                      cool3             182  \n",
       "                      cool4             379  \n",
       "                      cool5             522  \n",
       "furniture_decor       furniture1        613  \n",
       "                      furniture2        646  \n",
       "                      furniture3        626  \n",
       "                      furniture4        610  \n",
       "garden_tools          garden1          1839  \n",
       "                      garden10         1815  \n",
       "                      garden2          1832  \n",
       "                      garden3          1743  \n",
       "                      garden4          1755  \n",
       "                      garden5          1593  \n",
       "                      garden6          1815  \n",
       "                      garden7          1806  \n",
       "                      garden8          1588  \n",
       "                      garden9          1832  \n",
       "health_beauty         health1          1027  \n",
       "                      health10          943  \n",
       "                      health2          1544  \n",
       "                      health3          1041  \n",
       "                      health4          1373  \n",
       "                      health5          1775  \n",
       "                      health6           915  \n",
       "                      health7          1775  \n",
       "                      health8          1724  \n",
       "                      health9          1648  \n",
       "perfumery             perfumery1        204  \n",
       "                      perfumery2        223  \n",
       "watches_gifts         watches1         1352  \n",
       "                      watches2         1343  \n",
       "                      watches3         1295  \n",
       "                      watches4         1152  \n",
       "                      watches5         1021  \n",
       "                      watches6         1284  \n",
       "                      watches7         1236  \n",
       "                      watches8         1060  "
      ]
     },
     "execution_count": 1,
     "metadata": {},
     "output_type": "execute_result"
    }
   ],
   "source": [
    "import pandas as pd\n",
    "import numpy as np\n",
    "import gurobipy as gp\n",
    "from gurobipy import GRB\n",
    "import scipy as sp\n",
    "import matplotlib.pyplot as plt\n",
    "import time\n",
    "\n",
    "np.random.seed(1234)\n",
    "# read data\n",
    "df = pd.read_csv('retail_price.csv')\n",
    "index = ['product_category_name', 'product_id']\n",
    "column_min = ['unit_price', 'product_score', 'freight_price', 'product_weight_g', 'comp_1', 'ps1', \n",
    "              'comp_2', 'ps2', 'comp_3', 'ps3']\n",
    "# column_max = []\n",
    "column_sum = ['customers']\n",
    "\n",
    "table_min = pd.pivot_table(df, values=column_min, index=index,  aggfunc=np.min)\n",
    "# table_min = pivot_table(df, values='D', index=index,  aggfunc=np.max)\n",
    "table_sum = pd.pivot_table(df, values=column_sum, index=index, aggfunc=np.sum)\n",
    "table = table_min.merge(table_sum, on=index,how='left')\n",
    "table"
   ]
  },
  {
   "cell_type": "markdown",
   "metadata": {},
   "source": [
    "To make it simpler we will first just consider one product category."
   ]
  },
  {
   "cell_type": "code",
   "execution_count": 2,
   "metadata": {},
   "outputs": [
    {
     "name": "stdout",
     "output_type": "stream",
     "text": [
      "Buying prices  {'computers_accessories': array([ 59.80669524,  68.76982064, 103.33506584,  93.39729425,\n",
      "        68.20778189, 110.74442707])}\n",
      "RRP  {'computers_accessories': array([ 66.34214286,  77.9       , 132.97      , 114.4911538 ,\n",
      "        77.155     , 149.9       ])}\n",
      "Product ratings  {'computers_accessories': array([4. , 3.5, 4.2, 4.2, 3.5, 4.3])}\n",
      "Weight  {'computers_accessories': array([ 173,  180,  922, 6550,  207,  533], dtype=int64)}\n"
     ]
    }
   ],
   "source": [
    "# Selling & Buying & Rating & Probability of buying\n",
    "product_category = ['computers_accessories']\n",
    "\n",
    "selling = {}\n",
    "for category in product_category:\n",
    "    selling[category] = (table.loc[category]['unit_price'].values)\n",
    "\n",
    "# we set a margin for each product that depends on their price\n",
    "PROFIT_MARGIN_FACTOR = 0.3\n",
    "buying = {}\n",
    "for category in product_category:\n",
    "#     buying[category] = selling[category] * np.random.uniform(0.6,0.7, size=np.shape(selling[category]))\n",
    "    buying[category] = selling[category] * (1 - (np.exp((selling[category]**PROFIT_MARGIN_FACTOR)) \n",
    "                                                 / np.sum(np.exp((selling[category]**PROFIT_MARGIN_FACTOR)))))\n",
    "\n",
    "rating = {}\n",
    "for category in product_category:\n",
    "    rating[category] = (table.loc[category]['product_score'].values)\n",
    "MAX_RATING = 5.\n",
    "\n",
    "# Customers\n",
    "n_customers = {}\n",
    "for category in product_category:\n",
    "    n_customers[category] = (table.loc[category]['customers'].sum()) \n",
    "\n",
    "    \n",
    "# Weight\n",
    "weight = {}\n",
    "for category in product_category:\n",
    "    weight[category] = (table.loc[category]['product_weight_g'].values) \n",
    "\n",
    "print(\"Buying prices \", buying)\n",
    "print(\"RRP \", selling)\n",
    "print(\"Product ratings \", rating)\n",
    "print(\"Weight \", weight)"
   ]
  },
  {
   "cell_type": "markdown",
   "metadata": {},
   "source": [
    "Let's plot the buying and selling prices."
   ]
  },
  {
   "cell_type": "code",
   "execution_count": 3,
   "metadata": {},
   "outputs": [
    {
     "data": {
      "text/plain": [
       "<matplotlib.legend.Legend at 0x2ab77384790>"
      ]
     },
     "execution_count": 3,
     "metadata": {},
     "output_type": "execute_result"
    },
    {
     "data": {
      "image/png": "[encoded data removed]",
      "text/plain": [
       "<Figure size 640x480 with 1 Axes>"
      ]
     },
     "metadata": {},
     "output_type": "display_data"
    }
   ],
   "source": [
    "plt.bar(x = np.arange(6) - 0.2, height =  buying['computers_accessories'], label = 'buying price', width = 0.4)\n",
    "plt.bar(x = np.arange(6) + 0.2, height = selling['computers_accessories'], label = 'selling price', width = 0.4)\n",
    "plt.legend()"
   ]
  },
  {
   "cell_type": "markdown",
   "metadata": {},
   "source": [
    "and the margin of each product,"
   ]
  },
  {
   "cell_type": "code",
   "execution_count": 4,
   "metadata": {},
   "outputs": [
    {
     "data": {
      "text/plain": [
       "Text(0, 0.5, 'Margin ($)')"
      ]
     },
     "execution_count": 4,
     "metadata": {},
     "output_type": "execute_result"
    },
    {
     "data": {
      "image/png": "[encoded data removed]",
      "text/plain": [
       "<Figure size 640x480 with 1 Axes>"
      ]
     },
     "metadata": {},
     "output_type": "display_data"
    }
   ],
   "source": [
    "margin = (selling['computers_accessories'] - buying['computers_accessories']) / buying['computers_accessories']\n",
    "plt.bar(x = np.arange(6),height = margin)\n",
    "plt.xlabel(\"Product\")\n",
    "plt.ylabel(\"Margin ($)\")"
   ]
  },
  {
   "cell_type": "markdown",
   "metadata": {},
   "source": [
    "## Customer Allocation"
   ]
  },
  {
   "cell_type": "markdown",
   "metadata": {},
   "source": [
    "As stated in our model specification we take the softmax of selling price / rating as our probability."
   ]
  },
  {
   "cell_type": "code",
   "execution_count": 5,
   "metadata": {},
   "outputs": [],
   "source": [
    "PRICE_SENSITIVITY = 1.2\n",
    "softmax={}\n",
    "for category in product_category:\n",
    "    softmax[category] = (np.exp(-(selling[category]**PRICE_SENSITIVITY)*(MAX_RATING - rating[category]) / 100) \n",
    "              / np.sum(np.exp(-(selling[category]**PRICE_SENSITIVITY)*(MAX_RATING - rating[category])/100)))"
   ]
  },
  {
   "cell_type": "code",
   "execution_count": 6,
   "metadata": {},
   "outputs": [
    {
     "data": {
      "text/plain": [
       "Text(0, 0.5, 'Max Number of Customers to Buy')"
      ]
     },
     "execution_count": 6,
     "metadata": {},
     "output_type": "execute_result"
    },
    {
     "data": {
      "image/png": "[encoded data removed]",
      "text/plain": [
       "<Figure size 640x480 with 1 Axes>"
      ]
     },
     "metadata": {},
     "output_type": "display_data"
    }
   ],
   "source": [
    "prop_customers = softmax['computers_accessories']\n",
    "max_customers = n_customers['computers_accessories'] *prop_customers\n",
    "plt.bar(np.arange(6), prop_customers)\n",
    "plt.xlabel(\"Product\")\n",
    "plt.ylabel(\"Max Number of Customers to Buy\")"
   ]
  },
  {
   "cell_type": "code",
   "execution_count": 7,
   "metadata": {},
   "outputs": [
    {
     "data": {
      "text/plain": [
       "Text(0, 0.5, 'Product Rating')"
      ]
     },
     "execution_count": 7,
     "metadata": {},
     "output_type": "execute_result"
    },
    {
     "data": {
      "image/png": "[encoded data removed]",
      "text/plain": [
       "<Figure size 640x480 with 1 Axes>"
      ]
     },
     "metadata": {},
     "output_type": "display_data"
    }
   ],
   "source": [
    "plt.bar(np.arange(6), rating['computers_accessories'] / 5)\n",
    "plt.xlabel(\"Product\")\n",
    "plt.ylabel(\"Product Rating\")"
   ]
  },
  {
   "cell_type": "markdown",
   "metadata": {},
   "source": [
    "Immediately we can see that product $0$ has a relatively high rating and low price, so it gets assigned the high proportion of customers to buy. On the other hand, although product $5$ has the highest product rating, it has a relatively high price to the customers and so it does not get assigned as high a demand. Nevertheless we will see how our model deals with this scenario."
   ]
  },
  {
   "cell_type": "markdown",
   "metadata": {},
   "source": [
    "# Implementation in Gurobi"
   ]
  },
  {
   "cell_type": "code",
   "execution_count": 8,
   "metadata": {},
   "outputs": [],
   "source": [
    "# fixed freight cost, can change if needed\n",
    "SHIPPING_COST = 0.01\n",
    "\n",
    "# how many customers we have that won't buy unless extra conditions are fufilled\n",
    "MARKET_CUSTOMERS = {category: 10000 for category in product_category}\n",
    "\n",
    "# what % of 'market' customers do we get for each % of discount?\n",
    "DISCOUNT_FACTOR = 0\n",
    "\n",
    "# what % of 'market' customers do we get if we have free shipping\n",
    "FREE_SHIPPING_FACTOR = 0.4\n",
    "\n",
    "# the budget\n",
    "BUDGET = 1e7\n",
    "\n",
    "# inventory for each category, we will set this to be a proportion of the number of customers\n",
    "# INVENTORY_SPACE = n_customers['computers_accessories'] * 1\n",
    "INVENTORY_SPACE = 1e5"
   ]
  },
  {
   "cell_type": "code",
   "execution_count": 9,
   "metadata": {},
   "outputs": [],
   "source": [
    "def cb(model, where):\n",
    "    if where == GRB.Callback.MIPNODE:\n",
    "        # Get model objective\n",
    "        obj = model.cbGet(GRB.Callback.MIPNODE_OBJBST)\n",
    "\n",
    "        # Has objective changed?\n",
    "        if abs(obj - model._cur_obj) > 1e-8:\n",
    "            # If so, update incumbent and time\n",
    "            model._cur_obj = obj\n",
    "            model._time = time.time()\n",
    "\n",
    "    # Terminate if objective has not improved in 20s\n",
    "    if time.time() - model._time > 20:\n",
    "        model.terminate()"
   ]
  },
  {
   "cell_type": "code",
   "execution_count": 10,
   "metadata": {},
   "outputs": [],
   "source": [
    "def run_model():\n",
    "    m = gp.Model()\n",
    "\n",
    "    BIGNUM = 1e6 # sum(n_customers.values())\n",
    "\n",
    "    # decision variables\n",
    "    stock = {}\n",
    "    is_chosen = {}\n",
    "    sold = {}\n",
    "    discount = {}\n",
    "    free_shipping = {}\n",
    "    vars = {\n",
    "        'stock':stock, 'is_chosen':is_chosen, 'sold':sold, 'discount':discount, 'free_shipping':free_shipping,\n",
    "    }\n",
    "\n",
    "    # initialising decision variables\n",
    "    for category in product_category:\n",
    "        I = range(len(selling[category]))\n",
    "        stock[category] = m.addVars(I,vtype = GRB.INTEGER)\n",
    "        is_chosen[category] = m.addVars(I, vtype = GRB.BINARY)\n",
    "        sold[category] = m.addVars(I,vtype = GRB.INTEGER)\n",
    "        discount[category] = m.addVars(I,vtype=GRB.CONTINUOUS, lb=0, ub=1)\n",
    "        free_shipping[category] = m.addVars(I,  vtype = GRB.BINARY)\n",
    "\n",
    "\n",
    "    # amount sold and extra customers (100 is to rescale discount)\n",
    "    captured_customers = lambda category,i: (\n",
    "        MARKET_CUSTOMERS[category] * (FREE_SHIPPING_FACTOR * free_shipping[category][i]\n",
    "                                    + DISCOUNT_FACTOR * discount[category][i] * 100)\n",
    "    )\n",
    "    amount_sold  = lambda category,i: softmax[category][i]* (n_customers[category] + captured_customers(category,i))\n",
    "     \n",
    "    # objective function\n",
    "    m.setObjective(\n",
    "        gp.quicksum(gp.quicksum(sold[category][i] * selling[category][i] * (1 - discount[category][i]) \n",
    "                                - stock[category][i] * buying[category][i]\n",
    "                                - sold[category][i] * SHIPPING_COST * free_shipping[category][i] * weight[category][i]\n",
    "                    for i in range(len(selling[category]))) for category in product_category),\n",
    "        GRB.MAXIMIZE\n",
    "    )\n",
    "\n",
    "    # Can't store past inventory space\n",
    "    m.addConstr( gp.quicksum(gp.quicksum(stock[category][i] * weight[category][i] \n",
    "                              for i in range(len(selling[category]))) for category in product_category) \n",
    "                 <= INVENTORY_SPACE)\n",
    "\n",
    "    # Can't buy more than the budget\n",
    "    m.addConstr(gp.quicksum( gp.quicksum(stock[category][i] * buying[category][i] for i in range(len(selling[category]))) \n",
    "                            for category in product_category) <= BUDGET)\n",
    "\n",
    "    for category in product_category:\n",
    "        # If a product is stocked, is_chosen is set to be 1 [Change to BIGNUM to remove dependencies on n_customers]\n",
    "        m.addConstrs(stock[category][i] <= is_chosen[category][i] * BIGNUM\n",
    "                    for i in range(len(selling[category])))\n",
    "        # Can't sell more than you have stocked\n",
    "        m.addConstrs(sold[category][i] <= stock[category][i] for i in range(len(selling[category])))\n",
    "        # How much we can sell depends on number of customers [Removed is_chosen]\n",
    "        m.addConstrs(sold[category][i] <= amount_sold(category, i)\n",
    "                    for i in range(len(selling[category])))\n",
    "        m.addConstrs(sold[category][i] <= amount_sold(category, i)\n",
    "                    for i in range(len(selling[category])))\n",
    "        # Can't sell more than the total number of customers\n",
    "        m.addConstr(gp.quicksum(sold[category][i] for i in range(len(selling[category]))) \n",
    "                     <= n_customers[category] + MARKET_CUSTOMERS[category])\n",
    "#         m.addConstrs((FREE_SHIPPING_FACTOR * free_shipping[category][i]\n",
    "#                                     + DISCOUNT_FACTOR * discount[category][i]) <= 1 for i in range(len(selling[category])))\n",
    "\n",
    "    m.params.NonConvex = 2\n",
    "    \n",
    "    m._cur_obj = float('inf')\n",
    "    m._time = time.time()\n",
    "\n",
    "    \n",
    "    m.optimize(callback=cb)\n",
    "    data = {}\n",
    "    for category in product_category:\n",
    "        data[category] = {}\n",
    "        for v in vars:\n",
    "            data[category][v] = [a.X for a in vars[v][category].values()]\n",
    "    return m,data\n"
   ]
  },
  {
   "cell_type": "code",
   "execution_count": 11,
   "metadata": {},
   "outputs": [
    {
     "name": "stdout",
     "output_type": "stream",
     "text": [
      "Set parameter Username\n",
      "Academic license - for non-commercial use only - expires 2024-04-19\n",
      "Set parameter NonConvex to value 2\n",
      "Gurobi Optimizer version 10.0.1 build v10.0.1rc0 (win64)\n",
      "\n",
      "CPU model: 11th Gen Intel(R) Core(TM) i5-1135G7 @ 2.40GHz, instruction set [SSE2|AVX|AVX2|AVX512]\n",
      "Thread count: 4 physical cores, 8 logical processors, using up to 8 threads\n",
      "\n",
      "Optimize a model with 27 rows, 30 columns and 66 nonzeros\n",
      "Model fingerprint: 0x6d185482\n",
      "Model has 12 quadratic objective terms\n",
      "Variable types: 6 continuous, 24 integer (12 binary)\n",
      "Coefficient statistics:\n",
      "  Matrix range     [1e+00, 1e+06]\n",
      "  Objective range  [6e+01, 1e+02]\n",
      "  QObjective range [3e+00, 3e+02]\n",
      "  Bounds range     [1e+00, 1e+00]\n",
      "  RHS range        [5e+02, 1e+07]\n",
      "Found heuristic solution: objective -0.0000000\n",
      "Presolve removed 25 rows and 25 columns\n",
      "Presolve time: 0.00s\n",
      "Presolved: 3 rows, 6 columns, 9 nonzeros\n",
      "Variable types: 0 continuous, 6 integer (1 binary)\n",
      "Found heuristic solution: objective 3793.0972398\n",
      "\n",
      "Root relaxation: objective 7.338780e+03, 1 iterations, 0.00 seconds (0.00 work units)\n",
      "\n",
      "    Nodes    |    Current Node    |     Objective Bounds      |     Work\n",
      " Expl Unexpl |  Obj  Depth IntInf | Incumbent    BestBd   Gap | It/Node Time\n",
      "\n",
      "     0     0 7338.78008    0    1 3793.09724 7338.78008  93.5%     -    0s\n",
      "H    0     0                    7331.2223168 7338.78008  0.10%     -    0s\n",
      "     0     0     cutoff    0      7331.22232 7331.22232  0.00%     -    0s\n",
      "\n",
      "Cutting planes:\n",
      "  Gomory: 1\n",
      "\n",
      "Explored 1 nodes (3 simplex iterations) in 0.04 seconds (0.00 work units)\n",
      "Thread count was 8 (of 8 available processors)\n",
      "\n",
      "Solution count 3: 7331.22 3793.1 -0 \n",
      "\n",
      "Optimal solution found (tolerance 1.00e-04)\n",
      "Best objective 7.331222316796e+03, best bound 7.331222316796e+03, gap 0.0000%\n",
      "\n",
      "User-callback calls 342, time in user-callback 0.01 sec\n"
     ]
    },
    {
     "data": {
      "text/plain": [
       "{'computers_accessories': {'stock': [-0.0, 1.0, -0.0, -0.0, -0.0, 187.0],\n",
       "  'is_chosen': [1.0, 1.0, 1.0, 1.0, 1.0, 1.0],\n",
       "  'sold': [0.0, 1.0, 0.0, 0.0, 0.0, 187.0],\n",
       "  'discount': [0.0, 0.0, 0.0, 0.0, 0.0, 0.0],\n",
       "  'free_shipping': [0.0, 0.0, 0.0, 0.0, 0.0, 0.0]}}"
      ]
     },
     "execution_count": 11,
     "metadata": {},
     "output_type": "execute_result"
    }
   ],
   "source": [
    "m,data = run_model()\n",
    "data"
   ]
  },
  {
   "cell_type": "markdown",
   "metadata": {},
   "source": [
    "-------------"
   ]
  },
  {
   "cell_type": "markdown",
   "metadata": {},
   "source": [
    "# Low Budget , Low Inventory"
   ]
  },
  {
   "cell_type": "code",
   "execution_count": 12,
   "metadata": {},
   "outputs": [
    {
     "name": "stdout",
     "output_type": "stream",
     "text": [
      "Set parameter NonConvex to value 2\n",
      "Gurobi Optimizer version 10.0.1 build v10.0.1rc0 (win64)\n",
      "\n",
      "CPU model: 11th Gen Intel(R) Core(TM) i5-1135G7 @ 2.40GHz, instruction set [SSE2|AVX|AVX2|AVX512]\n",
      "Thread count: 4 physical cores, 8 logical processors, using up to 8 threads\n",
      "\n",
      "Optimize a model with 27 rows, 30 columns and 66 nonzeros\n",
      "Model fingerprint: 0x86c2a034\n",
      "Model has 12 quadratic objective terms\n",
      "Variable types: 6 continuous, 24 integer (12 binary)\n",
      "Coefficient statistics:\n",
      "  Matrix range     [1e+00, 1e+06]\n",
      "  Objective range  [6e+01, 1e+02]\n",
      "  QObjective range [3e+00, 3e+02]\n",
      "  Bounds range     [1e+00, 1e+00]\n",
      "  RHS range        [5e+02, 1e+05]\n",
      "Found heuristic solution: objective -0.0000000\n",
      "Presolve removed 25 rows and 25 columns\n",
      "Presolve time: 0.01s\n",
      "Presolved: 3 rows, 6 columns, 9 nonzeros\n",
      "Variable types: 0 continuous, 6 integer (1 binary)\n",
      "Found heuristic solution: objective 3793.0972398\n",
      "\n",
      "Root relaxation: objective 7.338780e+03, 1 iterations, 0.00 seconds (0.00 work units)\n",
      "\n",
      "    Nodes    |    Current Node    |     Objective Bounds      |     Work\n",
      " Expl Unexpl |  Obj  Depth IntInf | Incumbent    BestBd   Gap | It/Node Time\n",
      "\n",
      "     0     0 7338.78008    0    1 3793.09724 7338.78008  93.5%     -    0s\n",
      "H    0     0                    7331.2223168 7338.78008  0.10%     -    0s\n",
      "     0     0     cutoff    0      7331.22232 7331.22232  0.00%     -    0s\n",
      "\n",
      "Cutting planes:\n",
      "  Gomory: 1\n",
      "\n",
      "Explored 1 nodes (3 simplex iterations) in 0.07 seconds (0.00 work units)\n",
      "Thread count was 8 (of 8 available processors)\n",
      "\n",
      "Solution count 3: 7331.22 3793.1 -0 \n",
      "\n",
      "Optimal solution found (tolerance 1.00e-04)\n",
      "Best objective 7.331222316796e+03, best bound 7.331222316796e+03, gap 0.0000%\n",
      "\n",
      "User-callback calls 347, time in user-callback 0.01 sec\n"
     ]
    },
    {
     "data": {
      "text/plain": [
       "{'computers_accessories': {'stock': [-0.0, 1.0, -0.0, -0.0, -0.0, 187.0],\n",
       "  'is_chosen': [1.0, 1.0, 1.0, 1.0, 1.0, 1.0],\n",
       "  'sold': [0.0, 1.0, 0.0, 0.0, 0.0, 187.0],\n",
       "  'discount': [0.0, 0.0, 0.0, 0.0, 0.0, 0.0],\n",
       "  'free_shipping': [0.0, 0.0, 0.0, 0.0, 0.0, 0.0]}}"
      ]
     },
     "execution_count": 12,
     "metadata": {},
     "output_type": "execute_result"
    }
   ],
   "source": [
    "BUDGET = 1e5\n",
    "INVENTORY_SPACE = 1e5\n",
    "m,data = run_model()\n",
    "data"
   ]
  },
  {
   "cell_type": "code",
   "execution_count": 13,
   "metadata": {},
   "outputs": [
    {
     "name": "stdout",
     "output_type": "stream",
     "text": [
      "Total amount sold:  188.0\n"
     ]
    },
    {
     "data": {
      "image/png": "[encoded data removed]",
      "text/plain": [
       "<Figure size 640x480 with 1 Axes>"
      ]
     },
     "metadata": {},
     "output_type": "display_data"
    }
   ],
   "source": [
    "sold_items = data['computers_accessories']['sold']\n",
    "plt.bar(np.arange(6) - 0.2, sold_items, 0.4, label = 'sold')\n",
    "plt.bar(np.arange(6) + 0.2, max_customers, 0.4, label = 'demand')\n",
    "\n",
    "plt.legend()\n",
    "plt.xlabel(\"Item\")\n",
    "plt.ylabel(\"Number of Items\")\n",
    "print(\"Total amount sold: \", np.sum(sold_items))"
   ]
  },
  {
   "cell_type": "code",
   "execution_count": 14,
   "metadata": {},
   "outputs": [
    {
     "data": {
      "text/plain": [
       "Text(0, 0.5, 'Proportion of Total Products/Demand')"
      ]
     },
     "execution_count": 14,
     "metadata": {},
     "output_type": "execute_result"
    },
    {
     "data": {
      "image/png": "[encoded data removed]",
      "text/plain": [
       "<Figure size 640x480 with 1 Axes>"
      ]
     },
     "metadata": {},
     "output_type": "display_data"
    }
   ],
   "source": [
    "prop_products_sold = sold_items / np.sum(sold_items)\n",
    "plt.bar(np.arange(6) - 0.2, prop_products_sold, 0.2, label = '% products sold')\n",
    "plt.bar(np.arange(6) , prop_customers, 0.2, label = '% demand')\n",
    "plt.bar(np.arange(6) + 0.2, margin, 0.2, label = 'margin')\n",
    "plt.legend()\n",
    "plt.xlabel(\"Item\")\n",
    "plt.ylabel(\"Proportion of Total Products/Demand\")"
   ]
  },
  {
   "cell_type": "markdown",
   "metadata": {},
   "source": [
    "_________________"
   ]
  },
  {
   "cell_type": "markdown",
   "metadata": {},
   "source": [
    "# High Budget , Low Inventory"
   ]
  },
  {
   "cell_type": "code",
   "execution_count": 15,
   "metadata": {},
   "outputs": [
    {
     "name": "stdout",
     "output_type": "stream",
     "text": [
      "Set parameter NonConvex to value 2\n",
      "Gurobi Optimizer version 10.0.1 build v10.0.1rc0 (win64)\n",
      "\n",
      "CPU model: 11th Gen Intel(R) Core(TM) i5-1135G7 @ 2.40GHz, instruction set [SSE2|AVX|AVX2|AVX512]\n",
      "Thread count: 4 physical cores, 8 logical processors, using up to 8 threads\n",
      "\n",
      "Optimize a model with 27 rows, 30 columns and 66 nonzeros\n",
      "Model fingerprint: 0x6c1c0c49\n",
      "Model has 12 quadratic objective terms\n",
      "Variable types: 6 continuous, 24 integer (12 binary)\n",
      "Coefficient statistics:\n",
      "  Matrix range     [1e+00, 1e+06]\n",
      "  Objective range  [6e+01, 1e+02]\n",
      "  QObjective range [3e+00, 3e+02]\n",
      "  Bounds range     [1e+00, 1e+00]\n",
      "  RHS range        [5e+02, 1e+07]\n",
      "Found heuristic solution: objective -0.0000000\n",
      "Presolve removed 21 rows and 19 columns\n",
      "Presolve time: 0.00s\n",
      "Presolved: 11 rows, 16 columns, 31 nonzeros\n",
      "Variable types: 0 continuous, 16 integer (5 binary)\n",
      "Found heuristic solution: objective 3428.8914391\n",
      "\n",
      "Root relaxation: objective 5.268609e+04, 7 iterations, 0.00 seconds (0.00 work units)\n",
      "\n",
      "    Nodes    |    Current Node    |     Objective Bounds      |     Work\n",
      " Expl Unexpl |  Obj  Depth IntInf | Incumbent    BestBd   Gap | It/Node Time\n",
      "\n",
      "     0     0 52686.0914    0    5 3428.89144 52686.0914  1437%     -    0s\n",
      "H    0     0                    41292.932357 52686.0914  27.6%     -    0s\n",
      "H    0     0                    50397.220021 52686.0914  4.54%     -    0s\n",
      "H    0     0                    50614.895420 52686.0914  4.09%     -    0s\n",
      "H    0     0                    50838.390363 52686.0914  3.63%     -    0s\n",
      "H    0     0                    52200.168700 52686.0914  0.93%     -    0s\n",
      "\n",
      "Cutting planes:\n",
      "  Flow cover: 1\n",
      "  Zero half: 1\n",
      "  RLT: 2\n",
      "\n",
      "Explored 1 nodes (7 simplex iterations) in 0.06 seconds (0.00 work units)\n",
      "Thread count was 8 (of 8 available processors)\n",
      "\n",
      "Solution count 7: 52200.2 50838.4 50614.9 ... -0\n",
      "\n",
      "Optimal solution found (tolerance 1.00e-04)\n",
      "Best objective 5.220016869975e+04, best bound 5.220020084176e+04, gap 0.0001%\n",
      "\n",
      "User-callback calls 278, time in user-callback 0.01 sec\n",
      "{'computers_accessories': {'stock': [1738.0, 535.0, -0.0, -0.0, 552.0, 917.0], 'is_chosen': [1.0, 1.0, 1.0, 1.0, 1.0, 1.0], 'sold': [1738.0, 535.0, -0.0, 0.0, 552.0, 917.0], 'discount': [0.0, 0.0, 0.0, 0.0, 0.0, 0.0], 'free_shipping': [-0.0, -0.0, -0.0, 0.0, -0.0, 1.0]}}\n",
      "Total amount sold:  3742.0\n"
     ]
    },
    {
     "data": {
      "image/png": "[encoded data removed]",
      "text/plain": [
       "<Figure size 640x480 with 1 Axes>"
      ]
     },
     "metadata": {},
     "output_type": "display_data"
    }
   ],
   "source": [
    "BUDGET = 1e7\n",
    "INVENTORY_SPACE = 1e6\n",
    "m,data = run_model()\n",
    "print(data)\n",
    "\n",
    "sold_items = data['computers_accessories']['sold']\n",
    "plt.bar(np.arange(6) - 0.2, sold_items, 0.4, label = 'sold')\n",
    "plt.bar(np.arange(6) + 0.2, max_customers, 0.4, label = 'demand')\n",
    "\n",
    "plt.legend()\n",
    "plt.xlabel(\"Item\")\n",
    "plt.ylabel(\"Number of Items\")\n",
    "print(\"Total amount sold: \", np.sum(sold_items))\n"
   ]
  },
  {
   "cell_type": "code",
   "execution_count": 16,
   "metadata": {},
   "outputs": [
    {
     "data": {
      "text/plain": [
       "Text(0, 0.5, 'Proportion of Total Products/Demand')"
      ]
     },
     "execution_count": 16,
     "metadata": {},
     "output_type": "execute_result"
    },
    {
     "data": {
      "image/png": "[encoded data removed]",
      "text/plain": [
       "<Figure size 640x480 with 1 Axes>"
      ]
     },
     "metadata": {},
     "output_type": "display_data"
    }
   ],
   "source": [
    "prop_products_sold = sold_items / np.sum(sold_items)\n",
    "plt.bar(np.arange(6) - 0.2, prop_products_sold, 0.2, label = '% products sold')\n",
    "plt.bar(np.arange(6) , prop_customers, 0.2, label = '% demand')\n",
    "plt.bar(np.arange(6) + 0.2, margin, 0.2, label = 'margin')\n",
    "plt.legend()\n",
    "plt.xlabel(\"Item\")\n",
    "plt.ylabel(\"Proportion of Total Products/Demand\")"
   ]
  },
  {
   "cell_type": "markdown",
   "metadata": {},
   "source": [
    "# Low Budget , High Inventory"
   ]
  },
  {
   "cell_type": "code",
   "execution_count": 17,
   "metadata": {
    "scrolled": false
   },
   "outputs": [
    {
     "name": "stdout",
     "output_type": "stream",
     "text": [
      "Set parameter NonConvex to value 2\n",
      "Gurobi Optimizer version 10.0.1 build v10.0.1rc0 (win64)\n",
      "\n",
      "CPU model: 11th Gen Intel(R) Core(TM) i5-1135G7 @ 2.40GHz, instruction set [SSE2|AVX|AVX2|AVX512]\n",
      "Thread count: 4 physical cores, 8 logical processors, using up to 8 threads\n",
      "\n",
      "Optimize a model with 27 rows, 30 columns and 66 nonzeros\n",
      "Model fingerprint: 0xd9fa5f29\n",
      "Model has 12 quadratic objective terms\n",
      "Variable types: 6 continuous, 24 integer (12 binary)\n",
      "Coefficient statistics:\n",
      "  Matrix range     [1e+00, 1e+06]\n",
      "  Objective range  [6e+01, 1e+02]\n",
      "  QObjective range [3e+00, 3e+02]\n",
      "  Bounds range     [1e+00, 1e+00]\n",
      "  RHS range        [5e+02, 1e+08]\n",
      "Found heuristic solution: objective -0.0000000\n",
      "Presolve removed 21 rows and 19 columns\n",
      "Presolve time: 0.00s\n",
      "Presolved: 11 rows, 16 columns, 31 nonzeros\n",
      "Variable types: 0 continuous, 16 integer (5 binary)\n",
      "Found heuristic solution: objective 10980.351876\n",
      "\n",
      "Root relaxation: objective 3.329645e+04, 2 iterations, 0.00 seconds (0.00 work units)\n",
      "\n",
      "    Nodes    |    Current Node    |     Objective Bounds      |     Work\n",
      " Expl Unexpl |  Obj  Depth IntInf | Incumbent    BestBd   Gap | It/Node Time\n",
      "\n",
      "     0     0 33296.4528    0    3 10980.3519 33296.4528   203%     -    0s\n",
      "H    0     0                    29997.462913 33296.4528  11.0%     -    0s\n",
      "H    0     0                    31545.527163 33296.4528  5.55%     -    0s\n",
      "H    0     0                    32369.093904 33296.4528  2.86%     -    0s\n",
      "     0     0 32378.7012    0    1 32369.0939 32378.7012  0.03%     -    0s\n",
      "     0     0 32378.7012    0    1 32369.0939 32378.7012  0.03%     -    0s\n",
      "     0     2 32378.7012    0    1 32369.0939 32378.7012  0.03%     -    0s\n",
      "\n",
      "Explored 5 nodes (8 simplex iterations) in 0.09 seconds (0.00 work units)\n",
      "Thread count was 8 (of 8 available processors)\n",
      "\n",
      "Solution count 5: 32369.1 31545.5 29997.5 ... -0\n",
      "\n",
      "Optimal solution found (tolerance 1.00e-04)\n",
      "Best objective 3.236909390353e+04, best bound 3.237087000511e+04, gap 0.0055%\n",
      "\n",
      "User-callback calls 294, time in user-callback 0.01 sec\n",
      "{'computers_accessories': {'stock': [0.0, 1.0, 430.0, 0.0, 0.0, 501.0], 'is_chosen': [1.0, 1.0, 1.0, 1.0, 1.0, 1.0], 'sold': [0.0, 1.0, 430.0, 0.0, 0.0, 501.0], 'discount': [0.0, 0.0, 0.0, 0.0, 0.0, 0.0], 'free_shipping': [0.0, -0.0, -0.0, -0.0, -0.0, -0.0]}}\n",
      "Total amount sold:  932.0\n"
     ]
    },
    {
     "data": {
      "image/png": "[encoded data removed]",
      "text/plain": [
       "<Figure size 640x480 with 1 Axes>"
      ]
     },
     "metadata": {},
     "output_type": "display_data"
    }
   ],
   "source": [
    "BUDGET = 1e5\n",
    "INVENTORY_SPACE = 1e8\n",
    "m,data = run_model()\n",
    "print(data)\n",
    "\n",
    "sold_items = data['computers_accessories']['sold']\n",
    "plt.bar(np.arange(6) - 0.2, sold_items, 0.4, label = 'sold')\n",
    "plt.bar(np.arange(6) + 0.2, max_customers, 0.4, label = 'demand')\n",
    "\n",
    "plt.legend()\n",
    "plt.xlabel(\"Item\")\n",
    "plt.ylabel(\"Number of Items\")\n",
    "print(\"Total amount sold: \", np.sum(sold_items))\n"
   ]
  },
  {
   "cell_type": "markdown",
   "metadata": {},
   "source": [
    "# High Budget , High Inventory"
   ]
  },
  {
   "cell_type": "code",
   "execution_count": 18,
   "metadata": {
    "scrolled": false
   },
   "outputs": [
    {
     "name": "stdout",
     "output_type": "stream",
     "text": [
      "Set parameter NonConvex to value 2\n",
      "Gurobi Optimizer version 10.0.1 build v10.0.1rc0 (win64)\n",
      "\n",
      "CPU model: 11th Gen Intel(R) Core(TM) i5-1135G7 @ 2.40GHz, instruction set [SSE2|AVX|AVX2|AVX512]\n",
      "Thread count: 4 physical cores, 8 logical processors, using up to 8 threads\n",
      "\n",
      "Optimize a model with 27 rows, 30 columns and 66 nonzeros\n",
      "Model fingerprint: 0x358c573f\n",
      "Model has 12 quadratic objective terms\n",
      "Variable types: 6 continuous, 24 integer (12 binary)\n",
      "Coefficient statistics:\n",
      "  Matrix range     [1e+00, 1e+06]\n",
      "  Objective range  [6e+01, 1e+02]\n",
      "  QObjective range [3e+00, 3e+02]\n",
      "  Bounds range     [1e+00, 1e+00]\n",
      "  RHS range        [5e+02, 1e+08]\n",
      "Found heuristic solution: objective -0.0000000\n",
      "Presolve removed 20 rows and 18 columns\n",
      "Presolve time: 0.00s\n",
      "Presolved: 13 rows, 18 columns, 36 nonzeros\n",
      "Variable types: 0 continuous, 18 integer (6 binary)\n",
      "Found heuristic solution: objective 74313.679151\n",
      "\n",
      "Root relaxation: objective 9.986118e+04, 12 iterations, 0.00 seconds (0.00 work units)\n",
      "\n",
      "    Nodes    |    Current Node    |     Objective Bounds      |     Work\n",
      " Expl Unexpl |  Obj  Depth IntInf | Incumbent    BestBd   Gap | It/Node Time\n",
      "\n",
      "     0     0 99861.1758    0   10 74313.6792 99861.1758  34.4%     -    0s\n",
      "     0     0 96385.1622    0    9 74313.6792 96385.1622  29.7%     -    0s\n",
      "H    0     0                    87361.331342 96385.1622  10.3%     -    0s\n",
      "H    0     0                    87815.802463 96385.1622  9.76%     -    0s\n",
      "H    0     0                    87823.132642 96385.1622  9.75%     -    0s\n",
      "H    0     0                    92043.838993 96385.1622  4.72%     -    0s\n",
      "     0     0 92287.4527    0    9 92043.8390 92287.4527  0.26%     -    0s\n",
      "     0     0 92201.6496    0    3 92043.8390 92201.6496  0.17%     -    0s\n",
      "     0     0     cutoff    0      92043.8390 92043.8390  0.00%     -    0s\n",
      "\n",
      "Cutting planes:\n",
      "  MIR: 1\n",
      "  Flow cover: 2\n",
      "  Zero half: 1\n",
      "  RLT: 3\n",
      "  Relax-and-lift: 1\n",
      "\n",
      "Explored 1 nodes (25 simplex iterations) in 0.17 seconds (0.00 work units)\n",
      "Thread count was 8 (of 8 available processors)\n",
      "\n",
      "Solution count 6: 92043.8 87823.1 87815.8 ... -0\n",
      "\n",
      "Optimal solution found (tolerance 1.00e-04)\n",
      "Best objective 9.204383899301e+04, best bound 9.204383899301e+04, gap 0.0000%\n",
      "\n",
      "User-callback calls 285, time in user-callback 0.02 sec\n",
      "{'computers_accessories': {'stock': [1881.0, 980.0, 945.0, 821.0, 552.0, 917.0], 'is_chosen': [1.0, 1.0, 1.0, 1.0, 1.0, 1.0], 'sold': [1881.0, 980.0, 945.0, 821.0, 552.0, 917.0], 'discount': [0.0, 0.0, 0.0, 0.0, 0.0, 0.0], 'free_shipping': [0.0, 1.0, 1.0, 0.0, 0.0, 1.0]}}\n",
      "Total amount sold:  6096.0\n"
     ]
    },
    {
     "data": {
      "image/png": "[encoded data removed]",
      "text/plain": [
       "<Figure size 640x480 with 1 Axes>"
      ]
     },
     "metadata": {},
     "output_type": "display_data"
    }
   ],
   "source": [
    "BUDGET = 5e5\n",
    "INVENTORY_SPACE = 1e8\n",
    "m,data = run_model()\n",
    "print(data)\n",
    "\n",
    "sold_items = data['computers_accessories']['sold']\n",
    "plt.bar(np.arange(6) - 0.2, sold_items, 0.4, label = 'sold')\n",
    "plt.bar(np.arange(6) + 0.2, max_customers, 0.4, label = 'demand')\n",
    "\n",
    "plt.legend()\n",
    "plt.xlabel(\"Item\")\n",
    "plt.ylabel(\"Number of Items\")\n",
    "print(\"Total amount sold: \", np.sum(sold_items))\n"
   ]
  },
  {
   "cell_type": "code",
   "execution_count": 19,
   "metadata": {},
   "outputs": [
    {
     "data": {
      "text/plain": [
       "Text(0, 0.5, 'Proportion of Total Products/Demand')"
      ]
     },
     "execution_count": 19,
     "metadata": {},
     "output_type": "execute_result"
    },
    {
     "data": {
      "image/png": "[encoded data removed]",
      "text/plain": [
       "<Figure size 640x480 with 1 Axes>"
      ]
     },
     "metadata": {},
     "output_type": "display_data"
    }
   ],
   "source": [
    "prop_products_sold = sold_items / np.sum(sold_items)\n",
    "plt.bar(np.arange(6) - 0.2, prop_products_sold, 0.2, label = '% products sold')\n",
    "plt.bar(np.arange(6) , prop_customers, 0.2, label = '% demand')\n",
    "plt.bar(np.arange(6) + 0.2, margin, 0.2, label = 'margin')\n",
    "plt.legend()\n",
    "plt.xlabel(\"Item\")\n",
    "plt.ylabel(\"Proportion of Total Products/Demand\")"
   ]
  },
  {
   "cell_type": "markdown",
   "metadata": {},
   "source": [
    "-----------------------------------"
   ]
  },
  {
   "cell_type": "markdown",
   "metadata": {},
   "source": [
    "Here we have assumed 0 discount and shipping parameters and so the only question is how much of each product to choose. Let's plot the amount bought and sold."
   ]
  },
  {
   "cell_type": "code",
   "execution_count": 20,
   "metadata": {},
   "outputs": [
    {
     "data": {
      "text/plain": [
       "Text(0, 0.5, 'Proportion of Total Products/Demand')"
      ]
     },
     "execution_count": 20,
     "metadata": {},
     "output_type": "execute_result"
    },
    {
     "data": {
      "image/png": "[encoded data removed]",
      "text/plain": [
       "<Figure size 640x480 with 1 Axes>"
      ]
     },
     "metadata": {},
     "output_type": "display_data"
    }
   ],
   "source": [
    "prop_products_sold = sold_items / np.sum(sold_items)\n",
    "plt.bar(np.arange(6) - 0.2, prop_products_sold, 0.2, label = '% products sold')\n",
    "plt.bar(np.arange(6) , prop_customers, 0.2, label = '% demand')\n",
    "plt.bar(np.arange(6) + 0.2, margin, 0.2, label = 'margin')\n",
    "plt.legend()\n",
    "plt.xlabel(\"Item\")\n",
    "plt.ylabel(\"Proportion of Total Products/Demand\")"
   ]
  },
  {
   "cell_type": "code",
   "execution_count": 21,
   "metadata": {},
   "outputs": [
    {
     "data": {
      "text/plain": [
       "array([1881.00835254,  535.16091913,  515.92031591,  821.2855162 ,\n",
       "        552.56992729,  501.05496893])"
      ]
     },
     "execution_count": 21,
     "metadata": {},
     "output_type": "execute_result"
    }
   ],
   "source": [
    "max_customers"
   ]
  },
  {
   "cell_type": "code",
   "execution_count": 22,
   "metadata": {},
   "outputs": [
    {
     "data": {
      "text/plain": [
       "4807"
      ]
     },
     "execution_count": 22,
     "metadata": {},
     "output_type": "execute_result"
    }
   ],
   "source": [
    "n_customers['computers_accessories']"
   ]
  },
  {
   "cell_type": "markdown",
   "metadata": {},
   "source": [
    "We can see that none of the products have their total demand met; this is likely because we have limited inventory and budget. However it may be worth actually checking what affects the quantity stored for each item. Clearly demand is not the only factor since item 0, 1 and 4 have demand higher than item 5, but they were not stocked."
   ]
  },
  {
   "cell_type": "code",
   "execution_count": 23,
   "metadata": {},
   "outputs": [
    {
     "data": {
      "text/plain": [
       "Text(0, 0.5, 'Proportion of Total Products/Demand')"
      ]
     },
     "execution_count": 23,
     "metadata": {},
     "output_type": "execute_result"
    },
    {
     "data": {
      "image/png": "[encoded data removed]",
      "text/plain": [
       "<Figure size 640x480 with 1 Axes>"
      ]
     },
     "metadata": {},
     "output_type": "display_data"
    }
   ],
   "source": [
    "prop_products_sold = sold_items / np.sum(sold_items)\n",
    "plt.bar(np.arange(6) - 0.2, prop_products_sold, 0.2, label = '% products sold')\n",
    "plt.bar(np.arange(6) , prop_customers, 0.2, label = '% demand')\n",
    "plt.bar(np.arange(6) + 0.2, margin, 0.2, label = 'margin')\n",
    "plt.legend()\n",
    "plt.xlabel(\"Item\")\n",
    "plt.ylabel(\"Proportion of Total Products/Demand\")"
   ]
  },
  {
   "cell_type": "markdown",
   "metadata": {},
   "source": [
    "Combining our knowledge of the profit margin and the stock, when we have a low budget, we limit the type of items we stock due to limited funds, thus the obvious choice would be to stock the high profit margin items, giving better return of investment(ROI)."
   ]
  },
  {
   "cell_type": "markdown",
   "metadata": {},
   "source": [
    "However, with a bigger budget:"
   ]
  },
  {
   "cell_type": "code",
   "execution_count": 24,
   "metadata": {
    "scrolled": false
   },
   "outputs": [
    {
     "name": "stdout",
     "output_type": "stream",
     "text": [
      "Set parameter NonConvex to value 2\n",
      "Gurobi Optimizer version 10.0.1 build v10.0.1rc0 (win64)\n",
      "\n",
      "CPU model: 11th Gen Intel(R) Core(TM) i5-1135G7 @ 2.40GHz, instruction set [SSE2|AVX|AVX2|AVX512]\n",
      "Thread count: 4 physical cores, 8 logical processors, using up to 8 threads\n",
      "\n",
      "Optimize a model with 27 rows, 30 columns and 66 nonzeros\n",
      "Model fingerprint: 0x47d7bbb5\n",
      "Model has 12 quadratic objective terms\n",
      "Variable types: 6 continuous, 24 integer (12 binary)\n",
      "Coefficient statistics:\n",
      "  Matrix range     [1e+00, 1e+06]\n",
      "  Objective range  [6e+01, 1e+02]\n",
      "  QObjective range [3e+00, 3e+02]\n",
      "  Bounds range     [1e+00, 1e+00]\n",
      "  RHS range        [5e+02, 1e+08]\n",
      "Found heuristic solution: objective -0.0000000\n",
      "Presolve removed 26 rows and 28 columns\n",
      "Presolve time: 0.01s\n",
      "Presolved: 2 rows, 3 columns, 5 nonzeros\n",
      "Found heuristic solution: objective 81013.056166\n",
      "Variable types: 0 continuous, 3 integer (1 binary)\n",
      "Found heuristic solution: objective 98331.114854\n",
      "\n",
      "Explored 0 nodes (0 simplex iterations) in 0.04 seconds (0.00 work units)\n",
      "Thread count was 8 (of 8 available processors)\n",
      "\n",
      "Solution count 3: 98331.1 81013.1 -0 \n",
      "\n",
      "Optimal solution found (tolerance 1.00e-04)\n",
      "Best objective 9.833111485372e+04, best bound 9.833111485372e+04, gap 0.0000%\n",
      "\n",
      "User-callback calls 250, time in user-callback 0.01 sec\n"
     ]
    },
    {
     "data": {
      "text/plain": [
       "Text(0, 0.5, 'Proportion of Total Products/Demand')"
      ]
     },
     "execution_count": 24,
     "metadata": {},
     "output_type": "execute_result"
    },
    {
     "data": {
      "image/png": "[encoded data removed]",
      "text/plain": [
       "<Figure size 640x480 with 1 Axes>"
      ]
     },
     "metadata": {},
     "output_type": "display_data"
    }
   ],
   "source": [
    "BUDGET = 1e7\n",
    "\n",
    "m,data = run_model()\n",
    "sold_items = data['computers_accessories']['sold']\n",
    "prop_products_sold = sold_items / np.sum(sold_items)\n",
    "plt.bar(np.arange(6) - 0.2, prop_products_sold, 0.2, label = '% products sold')\n",
    "plt.bar(np.arange(6) , prop_customers, 0.2, label = '% demand')\n",
    "plt.bar(np.arange(6) + 0.2, margin, 0.2, label = 'margin')\n",
    "plt.legend()\n",
    "plt.xlabel(\"Item\")\n",
    "plt.ylabel(\"Proportion of Total Products/Demand\")"
   ]
  },
  {
   "cell_type": "code",
   "execution_count": 25,
   "metadata": {},
   "outputs": [
    {
     "name": "stdout",
     "output_type": "stream",
     "text": [
      "Total amount sold:  8121.0\n"
     ]
    },
    {
     "data": {
      "image/png": "[encoded data removed]",
      "text/plain": [
       "<Figure size 640x480 with 1 Axes>"
      ]
     },
     "metadata": {},
     "output_type": "display_data"
    }
   ],
   "source": [
    "sold_items = data['computers_accessories']['sold']\n",
    "plt.bar(np.arange(6) - 0.2, sold_items, 0.4, label = 'sold')\n",
    "plt.bar(np.arange(6) + 0.2, max_customers, 0.4, label = 'demand')\n",
    "\n",
    "plt.legend()\n",
    "plt.xlabel(\"Item\")\n",
    "plt.ylabel(\"Number of Items\")\n",
    "print(\"Total amount sold: \", np.sum(sold_items))"
   ]
  },
  {
   "cell_type": "markdown",
   "metadata": {},
   "source": [
    "We switch to stocking up item "
   ]
  },
  {
   "cell_type": "code",
   "execution_count": 26,
   "metadata": {
    "scrolled": false
   },
   "outputs": [
    {
     "data": {
      "text/plain": [
       "Text(0, 0.5, '% Margin')"
      ]
     },
     "execution_count": 26,
     "metadata": {},
     "output_type": "execute_result"
    },
    {
     "data": {
      "image/png": "[encoded data removed]",
      "text/plain": [
       "<Figure size 640x480 with 1 Axes>"
      ]
     },
     "metadata": {},
     "output_type": "display_data"
    }
   ],
   "source": [
    "# buying = {}\n",
    "# for category in product_category:\n",
    "#     buying[category] = selling[category] * np.random.uniform(0.6,0.8,size = len(selling[category]))\n",
    "    \n",
    "margin = (selling['computers_accessories'] - buying['computers_accessories']) / buying['computers_accessories']\n",
    "plt.bar(x = np.arange(6),height = margin)\n",
    "plt.xlabel(\"Product\")\n",
    "plt.ylabel(\"% Margin\")"
   ]
  },
  {
   "cell_type": "code",
   "execution_count": 27,
   "metadata": {},
   "outputs": [
    {
     "name": "stdout",
     "output_type": "stream",
     "text": [
      "Set parameter NonConvex to value 2\n",
      "Gurobi Optimizer version 10.0.1 build v10.0.1rc0 (win64)\n",
      "\n",
      "CPU model: 11th Gen Intel(R) Core(TM) i5-1135G7 @ 2.40GHz, instruction set [SSE2|AVX|AVX2|AVX512]\n",
      "Thread count: 4 physical cores, 8 logical processors, using up to 8 threads\n",
      "\n",
      "Optimize a model with 27 rows, 30 columns and 66 nonzeros\n",
      "Model fingerprint: 0x47d7bbb5\n",
      "Model has 12 quadratic objective terms\n",
      "Variable types: 6 continuous, 24 integer (12 binary)\n",
      "Coefficient statistics:\n",
      "  Matrix range     [1e+00, 1e+06]\n",
      "  Objective range  [6e+01, 1e+02]\n",
      "  QObjective range [3e+00, 3e+02]\n",
      "  Bounds range     [1e+00, 1e+00]\n",
      "  RHS range        [5e+02, 1e+08]\n",
      "Found heuristic solution: objective -0.0000000\n",
      "Presolve removed 26 rows and 28 columns\n",
      "Presolve time: 0.03s\n",
      "Presolved: 2 rows, 3 columns, 5 nonzeros\n",
      "Found heuristic solution: objective 81013.056166\n",
      "Variable types: 0 continuous, 3 integer (1 binary)\n",
      "Found heuristic solution: objective 98331.114854\n",
      "\n",
      "Explored 0 nodes (0 simplex iterations) in 0.08 seconds (0.00 work units)\n",
      "Thread count was 8 (of 8 available processors)\n",
      "\n",
      "Solution count 3: 98331.1 81013.1 -0 \n",
      "\n",
      "Optimal solution found (tolerance 1.00e-04)\n",
      "Best objective 9.833111485372e+04, best bound 9.833111485372e+04, gap 0.0000%\n",
      "\n",
      "User-callback calls 251, time in user-callback 0.01 sec\n"
     ]
    },
    {
     "data": {
      "text/plain": [
       "Text(0, 0.5, 'Proportion of Total Products/Demand')"
      ]
     },
     "execution_count": 27,
     "metadata": {},
     "output_type": "execute_result"
    },
    {
     "data": {
      "image/png": "[encoded data removed]",
      "text/plain": [
       "<Figure size 640x480 with 1 Axes>"
      ]
     },
     "metadata": {},
     "output_type": "display_data"
    }
   ],
   "source": [
    "m,data = run_model()\n",
    "sold_items = data['computers_accessories']['sold']\n",
    "prop_products_sold = sold_items/ np.sum(sold_items)\n",
    "plt.bar(np.arange(6) - 0.2, prop_products_sold, 0.4, label = '% products sold')\n",
    "plt.bar(np.arange(6) + 0.2, prop_customers, 0.4, label = '% demand')\n",
    "plt.legend()\n",
    "plt.xlabel(\"Item\")\n",
    "plt.ylabel(\"Proportion of Total Products/Demand\")"
   ]
  },
  {
   "cell_type": "code",
   "execution_count": 28,
   "metadata": {},
   "outputs": [
    {
     "name": "stdout",
     "output_type": "stream",
     "text": [
      "Total amount sold:  8121.0\n"
     ]
    },
    {
     "data": {
      "image/png": "[encoded data removed]",
      "text/plain": [
       "<Figure size 640x480 with 1 Axes>"
      ]
     },
     "metadata": {},
     "output_type": "display_data"
    }
   ],
   "source": [
    "sold_items = data['computers_accessories']['sold']\n",
    "plt.bar(np.arange(6) - 0.2, sold_items, 0.4, label = 'sold')\n",
    "plt.bar(np.arange(6) + 0.2, max_customers, 0.4, label = 'demand')\n",
    "plt.legend()\n",
    "plt.xlabel(\"Item\")\n",
    "plt.ylabel(\"Number of Items\")\n",
    "print(\"Total amount sold: \", np.sum(sold_items))"
   ]
  },
  {
   "cell_type": "markdown",
   "metadata": {},
   "source": [
    "Still it seems that we are buying according to the demand of customers, despite the different margins. We can check with a more extreme case."
   ]
  },
  {
   "cell_type": "code",
   "execution_count": 29,
   "metadata": {},
   "outputs": [
    {
     "name": "stdout",
     "output_type": "stream",
     "text": [
      "Set parameter NonConvex to value 2\n",
      "Gurobi Optimizer version 10.0.1 build v10.0.1rc0 (win64)\n",
      "\n",
      "CPU model: 11th Gen Intel(R) Core(TM) i5-1135G7 @ 2.40GHz, instruction set [SSE2|AVX|AVX2|AVX512]\n",
      "Thread count: 4 physical cores, 8 logical processors, using up to 8 threads\n",
      "\n",
      "Optimize a model with 27 rows, 30 columns and 66 nonzeros\n",
      "Model fingerprint: 0x6d185482\n",
      "Model has 12 quadratic objective terms\n",
      "Variable types: 6 continuous, 24 integer (12 binary)\n",
      "Coefficient statistics:\n",
      "  Matrix range     [1e+00, 1e+06]\n",
      "  Objective range  [6e+01, 1e+02]\n",
      "  QObjective range [3e+00, 3e+02]\n",
      "  Bounds range     [1e+00, 1e+00]\n",
      "  RHS range        [5e+02, 1e+07]\n",
      "Found heuristic solution: objective -0.0000000\n",
      "Presolve removed 25 rows and 25 columns\n",
      "Presolve time: 0.00s\n",
      "Presolved: 3 rows, 6 columns, 9 nonzeros\n",
      "Variable types: 0 continuous, 6 integer (1 binary)\n",
      "Found heuristic solution: objective 3793.0972398\n",
      "\n",
      "Root relaxation: objective 7.338780e+03, 1 iterations, 0.00 seconds (0.00 work units)\n",
      "\n",
      "    Nodes    |    Current Node    |     Objective Bounds      |     Work\n",
      " Expl Unexpl |  Obj  Depth IntInf | Incumbent    BestBd   Gap | It/Node Time\n",
      "\n",
      "     0     0 7338.78008    0    1 3793.09724 7338.78008  93.5%     -    0s\n",
      "H    0     0                    7331.2223168 7338.78008  0.10%     -    0s\n",
      "     0     0     cutoff    0      7331.22232 7331.22232  0.00%     -    0s\n",
      "\n",
      "Cutting planes:\n",
      "  Gomory: 1\n",
      "\n",
      "Explored 1 nodes (3 simplex iterations) in 0.06 seconds (0.00 work units)\n",
      "Thread count was 8 (of 8 available processors)\n",
      "\n",
      "Solution count 3: 7331.22 3793.1 -0 \n",
      "\n",
      "Optimal solution found (tolerance 1.00e-04)\n",
      "Best objective 7.331222316796e+03, best bound 7.331222316796e+03, gap 0.0000%\n",
      "\n",
      "User-callback calls 344, time in user-callback 0.01 sec\n"
     ]
    },
    {
     "data": {
      "text/plain": [
       "Text(0, 0.5, 'Proportion of Total Products/Demand')"
      ]
     },
     "execution_count": 29,
     "metadata": {},
     "output_type": "execute_result"
    },
    {
     "data": {
      "image/png": "[encoded data removed]",
      "text/plain": [
       "<Figure size 640x480 with 1 Axes>"
      ]
     },
     "metadata": {},
     "output_type": "display_data"
    }
   ],
   "source": [
    "#buying['computers_accessories'][5] = 0.\n",
    "INVENTORY_SPACE = 100000\n",
    "m,data = run_model()\n",
    "sold_items = data['computers_accessories']['sold']\n",
    "prop_products_sold = sold_items/ np.sum(sold_items)\n",
    "plt.bar(np.arange(6) - 0.2, prop_products_sold, 0.4, label = '% products sold')\n",
    "plt.bar(np.arange(6) + 0.2, prop_customers, 0.4, label = '% demand')\n",
    "plt.legend()\n",
    "plt.xlabel(\"Item\")\n",
    "plt.ylabel(\"Proportion of Total Products/Demand\")"
   ]
  }
 ],
 "metadata": {
  "kernelspec": {
   "display_name": "Python 3 (ipykernel)",
   "language": "python",
   "name": "python3"
  },
  "language_info": {
   "codemirror_mode": {
    "name": "ipython",
    "version": 3
   },
   "file_extension": ".py",
   "mimetype": "text/x-python",
   "name": "python",
   "nbconvert_exporter": "python",
   "pygments_lexer": "ipython3",
   "version": "3.9.13"
  },
  "vscode": {
   "interpreter": {
    "hash": "128e89a1219571bf327b67a5404081b2bbd3a6fd2c318b291fb6b5bc2b97670a"
   }
  }
 },
 "nbformat": 4,
 "nbformat_minor": 2
}
